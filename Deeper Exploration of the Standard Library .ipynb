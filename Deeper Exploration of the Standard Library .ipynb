{
 "cells": [
  {
   "cell_type": "markdown",
   "id": "925c0b28",
   "metadata": {},
   "source": [
    "# Standard library "
   ]
  },
  {
   "cell_type": "markdown",
   "id": "fbf2dd4c",
   "metadata": {},
   "source": [
    "In this notebook we walk through examples to get familiar with the key functionality of\n",
    "  - `pathlib`\n",
    "  - `datetime`\n",
    "  - `collections`\n",
    "  - `itertools`\n",
    "  - `functools`\n"
   ]
  },
  {
   "cell_type": "markdown",
   "id": "2d198f30",
   "metadata": {},
   "source": [
    "This module offers classes representing filesystem paths (with semantics appropriate for different operating systems.)\n",
    "\n",
    "No need to install, as of python 3.4 it's standard lib."
   ]
  },
  {
   "cell_type": "code",
   "execution_count": 17,
   "id": "6a284b47",
   "metadata": {},
   "outputs": [],
   "source": [
    "from pathlib import Path"
   ]
  },
  {
   "cell_type": "code",
   "execution_count": 18,
   "id": "6f5021f7",
   "metadata": {},
   "outputs": [
    {
     "data": {
      "text/plain": [
       "WindowsPath('.')"
      ]
     },
     "execution_count": 18,
     "metadata": {},
     "output_type": "execute_result"
    }
   ],
   "source": [
    "cwd_path = Path('.')\n",
    "cwd_path"
   ]
  },
  {
   "cell_type": "code",
   "execution_count": 19,
   "id": "c1eb990b",
   "metadata": {},
   "outputs": [
    {
     "data": {
      "text/plain": [
       "WindowsPath('D:/DATA100')"
      ]
     },
     "execution_count": 19,
     "metadata": {},
     "output_type": "execute_result"
    }
   ],
   "source": [
    "cwd_path.absolute()"
   ]
  },
  {
   "cell_type": "code",
   "execution_count": 20,
   "id": "e4b7823e",
   "metadata": {},
   "outputs": [
    {
     "data": {
      "text/plain": [
       "WindowsPath('D:/DATA100')"
      ]
     },
     "execution_count": 20,
     "metadata": {},
     "output_type": "execute_result"
    }
   ],
   "source": [
    "Path.cwd()"
   ]
  },
  {
   "cell_type": "markdown",
   "id": "873bdeac",
   "metadata": {},
   "source": [
    "# Building paths"
   ]
  },
  {
   "cell_type": "code",
   "execution_count": 21,
   "id": "41cd0987",
   "metadata": {},
   "outputs": [
    {
     "data": {
      "text/plain": [
       "WindowsPath('data/student-data')"
      ]
     },
     "execution_count": 21,
     "metadata": {},
     "output_type": "execute_result"
    }
   ],
   "source": [
    "student_folder = cwd_path.joinpath('data').joinpath('student-data')\n",
    "student_folder"
   ]
  },
  {
   "cell_type": "code",
   "execution_count": 22,
   "id": "5e796db2",
   "metadata": {},
   "outputs": [
    {
     "data": {
      "text/plain": [
       "WindowsPath('data/student-data')"
      ]
     },
     "execution_count": 22,
     "metadata": {},
     "output_type": "execute_result"
    }
   ],
   "source": [
    "#Same again just using / operator\n",
    "student_folder = cwd_path / 'data' / 'student-data'\n",
    "student_folder"
   ]
  },
  {
   "cell_type": "code",
   "execution_count": 23,
   "id": "03a8355f",
   "metadata": {},
   "outputs": [
    {
     "data": {
      "text/plain": [
       "WindowsPath('data/student-data')"
      ]
     },
     "execution_count": 23,
     "metadata": {},
     "output_type": "execute_result"
    }
   ],
   "source": [
    "# Same again using string\n",
    "student_folder = Path('./data/student-data')\n",
    "student_folder"
   ]
  },
  {
   "cell_type": "code",
   "execution_count": 24,
   "id": "637b2ed0",
   "metadata": {},
   "outputs": [],
   "source": [
    "student_data_path = student_folder / 'data.json'"
   ]
  },
  {
   "cell_type": "markdown",
   "id": "ee2ebea6",
   "metadata": {},
   "source": [
    "## File parts and parents"
   ]
  },
  {
   "cell_type": "code",
   "execution_count": 25,
   "id": "991a1c1c",
   "metadata": {},
   "outputs": [
    {
     "data": {
      "text/plain": [
       "WindowsPath('data/student-data/data.json')"
      ]
     },
     "execution_count": 25,
     "metadata": {},
     "output_type": "execute_result"
    }
   ],
   "source": [
    "student_data_path"
   ]
  },
  {
   "cell_type": "code",
   "execution_count": 26,
   "id": "8b92a591",
   "metadata": {},
   "outputs": [
    {
     "data": {
      "text/plain": [
       "('data.json', 'data', '.json')"
      ]
     },
     "execution_count": 26,
     "metadata": {},
     "output_type": "execute_result"
    }
   ],
   "source": [
    "student_data_path.name, student_data_path.stem, student_data_path.suffix"
   ]
  },
  {
   "cell_type": "code",
   "execution_count": 27,
   "id": "86d2043b",
   "metadata": {},
   "outputs": [
    {
     "data": {
      "text/plain": [
       "('data', 'student-data', 'data.json')"
      ]
     },
     "execution_count": 27,
     "metadata": {},
     "output_type": "execute_result"
    }
   ],
   "source": [
    "student_data_path.parts"
   ]
  },
  {
   "cell_type": "code",
   "execution_count": 28,
   "id": "7015d828",
   "metadata": {},
   "outputs": [
    {
     "name": "stdout",
     "output_type": "stream",
     "text": [
      "data\\student-data\\data.json\n"
     ]
    }
   ],
   "source": [
    "print(student_data_path)"
   ]
  },
  {
   "cell_type": "code",
   "execution_count": 29,
   "id": "a04f16e5",
   "metadata": {},
   "outputs": [
    {
     "name": "stdout",
     "output_type": "stream",
     "text": [
      "D:\\DATA100\\data\\student-data\\data.json\n"
     ]
    }
   ],
   "source": [
    "#Absolutely complete path can be obtained by using\n",
    "print(student_data_path.absolute())"
   ]
  },
  {
   "cell_type": "code",
   "execution_count": 30,
   "id": "0faede50",
   "metadata": {},
   "outputs": [
    {
     "data": {
      "text/plain": [
       "WindowsPath('data/student-data')"
      ]
     },
     "execution_count": 30,
     "metadata": {},
     "output_type": "execute_result"
    }
   ],
   "source": [
    "student_data_path.parent"
   ]
  },
  {
   "cell_type": "code",
   "execution_count": 31,
   "id": "5c2f6901",
   "metadata": {},
   "outputs": [
    {
     "data": {
      "text/plain": [
       "WindowsPath('data')"
      ]
     },
     "execution_count": 31,
     "metadata": {},
     "output_type": "execute_result"
    }
   ],
   "source": [
    "# As the parent returns a Path instance\n",
    "# we can call parent on that too\n",
    "\n",
    "student_data_path.parent.parent"
   ]
  },
  {
   "cell_type": "markdown",
   "id": "8c30a832",
   "metadata": {},
   "source": [
    "## Changing the name, stem or file extension"
   ]
  },
  {
   "cell_type": "code",
   "execution_count": 32,
   "id": "db45c70f",
   "metadata": {},
   "outputs": [
    {
     "data": {
      "text/plain": [
       "WindowsPath('data/student-data/data.json')"
      ]
     },
     "execution_count": 32,
     "metadata": {},
     "output_type": "execute_result"
    }
   ],
   "source": [
    "student_data_path"
   ]
  },
  {
   "cell_type": "code",
   "execution_count": 33,
   "id": "2d9bb52b",
   "metadata": {},
   "outputs": [
    {
     "data": {
      "text/plain": [
       "WindowsPath('data/student-data/data.py')"
      ]
     },
     "execution_count": 33,
     "metadata": {},
     "output_type": "execute_result"
    }
   ],
   "source": [
    "# replaces .jpeg with .py\n",
    "student_data_path.with_suffix('.py')"
   ]
  },
  {
   "cell_type": "code",
   "execution_count": 34,
   "id": "35ebcf8e",
   "metadata": {},
   "outputs": [
    {
     "data": {
      "text/plain": [
       "WindowsPath('data/student-data/student_data.txt')"
      ]
     },
     "execution_count": 34,
     "metadata": {},
     "output_type": "execute_result"
    }
   ],
   "source": [
    "# replaces data.jpeg with student_data.txt\n",
    "student_data_path.with_name('student_data.txt')"
   ]
  },
  {
   "cell_type": "markdown",
   "id": "87b2d428",
   "metadata": {},
   "source": [
    "## Interacting with files, reading, writing and renaming"
   ]
  },
  {
   "cell_type": "code",
   "execution_count": 35,
   "id": "72077e43",
   "metadata": {},
   "outputs": [
    {
     "data": {
      "text/plain": [
       "True"
      ]
     },
     "execution_count": 35,
     "metadata": {},
     "output_type": "execute_result"
    }
   ],
   "source": [
    "student_data_path.exists()"
   ]
  },
  {
   "cell_type": "markdown",
   "id": "61c491eb",
   "metadata": {},
   "source": [
    "Clearly, the path was created but it does not exist"
   ]
  },
  {
   "cell_type": "code",
   "execution_count": 36,
   "id": "1d2bb1c2",
   "metadata": {},
   "outputs": [],
   "source": [
    "student_data_folder = student_data_path.parent"
   ]
  },
  {
   "cell_type": "code",
   "execution_count": 37,
   "id": "e4f61774",
   "metadata": {},
   "outputs": [
    {
     "data": {
      "text/plain": [
       "True"
      ]
     },
     "execution_count": 37,
     "metadata": {},
     "output_type": "execute_result"
    }
   ],
   "source": [
    "student_data_folder.exists()"
   ]
  },
  {
   "cell_type": "code",
   "execution_count": 38,
   "id": "fb0160a6",
   "metadata": {},
   "outputs": [],
   "source": [
    "# Adding parents = True means the mkdir call will make parents if they are not there\n",
    "# Adding exists_ok = True means the mkdir call will not fail if the folder already exists\n",
    "student_data_folder.mkdir(parents=True, exist_ok=True)"
   ]
  },
  {
   "cell_type": "code",
   "execution_count": 39,
   "id": "bc1171f1",
   "metadata": {},
   "outputs": [
    {
     "data": {
      "text/plain": [
       "True"
      ]
     },
     "execution_count": 39,
     "metadata": {},
     "output_type": "execute_result"
    }
   ],
   "source": [
    "student_data_folder.exists()"
   ]
  },
  {
   "cell_type": "code",
   "execution_count": 40,
   "id": "e18afe45",
   "metadata": {},
   "outputs": [
    {
     "data": {
      "text/plain": [
       "True"
      ]
     },
     "execution_count": 40,
     "metadata": {},
     "output_type": "execute_result"
    }
   ],
   "source": [
    "student_data_path.exists()"
   ]
  },
  {
   "cell_type": "code",
   "execution_count": 41,
   "id": "127d76c9",
   "metadata": {},
   "outputs": [],
   "source": [
    "student_data = [\n",
    "    {\n",
    "        \"name\": \"John Smith\",\n",
    "        \"age\": 10,\n",
    "        \"on_vacation\": False,\n",
    "        \"test_scores\": [66, 85, 39, 61, 16, 92, 33, 3, 87, 71],\n",
    "    },\n",
    "    {\n",
    "        \"name\": \"Jane Doe\",\n",
    "        \"age\": 10,\n",
    "        \"on_vacation\": False,\n",
    "        \"test_scores\": [4, 73, 75, 4, 50, 83, 8, 23, 42, 23],\n",
    "    },\n",
    "    {\n",
    "        \"name\": \"Isaac Newton\",\n",
    "        \"age\": 30,\n",
    "        \"on_vacation\": True,\n",
    "        \"test_scores\": [93, 96, 94, 92, 95, 90, 100, 98, 90, 94],\n",
    "    },\n",
    "]"
   ]
  },
  {
   "cell_type": "code",
   "execution_count": 42,
   "id": "aea010a9",
   "metadata": {},
   "outputs": [
    {
     "data": {
      "text/plain": [
       "856"
      ]
     },
     "execution_count": 42,
     "metadata": {},
     "output_type": "execute_result"
    }
   ],
   "source": [
    "import json # to convert dict to json string\n",
    "\n",
    "student_data_path.write_text(json.dumps(student_data, indent=4))"
   ]
  },
  {
   "cell_type": "markdown",
   "id": "8cc6fa28",
   "metadata": {},
   "source": [
    "## Renaming the File"
   ]
  },
  {
   "cell_type": "code",
   "execution_count": 43,
   "id": "ed6258c2",
   "metadata": {},
   "outputs": [
    {
     "data": {
      "text/plain": [
       "WindowsPath('data/new_location.txt')"
      ]
     },
     "execution_count": 43,
     "metadata": {},
     "output_type": "execute_result"
    }
   ],
   "source": [
    "#Create the name\n",
    "moved_file_location = student_data_path.parent.parent / 'new_location.txt'\n",
    "moved_file_location"
   ]
  },
  {
   "cell_type": "code",
   "execution_count": 44,
   "id": "1eddad3b",
   "metadata": {},
   "outputs": [],
   "source": [
    "#Then Rename\n",
    "if not moved_file_location.exists():\n",
    "    student_data_path.rename(moved_file_location)\n",
    "\n",
    "# NO WARNING if overwriting. So be careful"
   ]
  },
  {
   "cell_type": "code",
   "execution_count": 45,
   "id": "d9eac0bf",
   "metadata": {},
   "outputs": [
    {
     "data": {
      "text/plain": [
       "True"
      ]
     },
     "execution_count": 45,
     "metadata": {},
     "output_type": "execute_result"
    }
   ],
   "source": [
    "moved_file_location.exists()"
   ]
  },
  {
   "cell_type": "markdown",
   "id": "5297bb95",
   "metadata": {},
   "source": [
    "## Deleting dirs and files"
   ]
  },
  {
   "cell_type": "code",
   "execution_count": 46,
   "id": "473210ac",
   "metadata": {},
   "outputs": [],
   "source": [
    "# unlink -- deletes a file.\n",
    "#The missing_ok ensures no error if the file doesn't exist\n",
    "\n",
    "if student_data_path.exists():\n",
    "    student_data_path.unlink()\n",
    "if moved_file_location.exists():\n",
    "    moved_file_location.unlink()"
   ]
  },
  {
   "cell_type": "code",
   "execution_count": 47,
   "id": "413f1478",
   "metadata": {},
   "outputs": [
    {
     "ename": "OSError",
     "evalue": "[WinError 145] The directory is not empty: 'data'",
     "output_type": "error",
     "traceback": [
      "\u001b[1;31m---------------------------------------------------------------------------\u001b[0m",
      "\u001b[1;31mOSError\u001b[0m                                   Traceback (most recent call last)",
      "Input \u001b[1;32mIn [47]\u001b[0m, in \u001b[0;36m<module>\u001b[1;34m\u001b[0m\n\u001b[0;32m      3\u001b[0m     student_data_folder\u001b[38;5;241m.\u001b[39mrmdir()\n\u001b[0;32m      4\u001b[0m \u001b[38;5;28;01mif\u001b[39;00m student_data_folder\u001b[38;5;241m.\u001b[39mparent\u001b[38;5;241m.\u001b[39mis_dir():\n\u001b[1;32m----> 5\u001b[0m     \u001b[43mstudent_data_folder\u001b[49m\u001b[38;5;241;43m.\u001b[39;49m\u001b[43mparent\u001b[49m\u001b[38;5;241;43m.\u001b[39;49m\u001b[43mrmdir\u001b[49m\u001b[43m(\u001b[49m\u001b[43m)\u001b[49m\n",
      "File \u001b[1;32mc:\\users\\admin\\pycharmprojects\\lib\\pathlib.py:1335\u001b[0m, in \u001b[0;36mPath.rmdir\u001b[1;34m(self)\u001b[0m\n\u001b[0;32m   1333\u001b[0m \u001b[38;5;28;01mif\u001b[39;00m \u001b[38;5;28mself\u001b[39m\u001b[38;5;241m.\u001b[39m_closed:\n\u001b[0;32m   1334\u001b[0m     \u001b[38;5;28mself\u001b[39m\u001b[38;5;241m.\u001b[39m_raise_closed()\n\u001b[1;32m-> 1335\u001b[0m \u001b[38;5;28;43mself\u001b[39;49m\u001b[38;5;241;43m.\u001b[39;49m\u001b[43m_accessor\u001b[49m\u001b[38;5;241;43m.\u001b[39;49m\u001b[43mrmdir\u001b[49m\u001b[43m(\u001b[49m\u001b[38;5;28;43mself\u001b[39;49m\u001b[43m)\u001b[49m\n",
      "\u001b[1;31mOSError\u001b[0m: [WinError 145] The directory is not empty: 'data'"
     ]
    }
   ],
   "source": [
    "# Remove an empty directory\n",
    "if student_data_folder.is_dir():\n",
    "    student_data_folder.rmdir()\n",
    "if student_data_folder.parent.is_dir():\n",
    "    student_data_folder.parent.rmdir()"
   ]
  },
  {
   "cell_type": "code",
   "execution_count": 48,
   "id": "270c5121",
   "metadata": {},
   "outputs": [
    {
     "data": {
      "text/plain": [
       "856"
      ]
     },
     "execution_count": 48,
     "metadata": {},
     "output_type": "execute_result"
    }
   ],
   "source": [
    "# Redo these to use data Data.\n",
    "\n",
    "student_data_folder.mkdir(parents=True, exist_ok=True)\n",
    "student_data_path.write_text(json.dumps(student_data, indent=4))"
   ]
  },
  {
   "cell_type": "code",
   "execution_count": null,
   "id": "386bec25",
   "metadata": {},
   "outputs": [],
   "source": []
  },
  {
   "cell_type": "markdown",
   "id": "6491e178",
   "metadata": {},
   "source": [
    "### Iterating on a dir."
   ]
  },
  {
   "cell_type": "markdown",
   "id": "f840b80f",
   "metadata": {},
   "source": [
    "Returns the names of all the files and folders in the directory"
   ]
  },
  {
   "cell_type": "code",
   "execution_count": 49,
   "id": "ad2e33e3",
   "metadata": {},
   "outputs": [
    {
     "data": {
      "text/plain": [
       "[WindowsPath('.ipynb_checkpoints'),\n",
       " WindowsPath('annoying_puzzle2.csv'),\n",
       " WindowsPath('baby.csv'),\n",
       " WindowsPath('babynames.zip'),\n",
       " WindowsPath('babynamesbystate.zip'),\n",
       " WindowsPath('bob.pdf'),\n",
       " WindowsPath('box.py'),\n",
       " WindowsPath('co2_mm_mlo.md'),\n",
       " WindowsPath('confirmed_cases.json.md'),\n",
       " WindowsPath('data'),\n",
       " WindowsPath('dataframe.png'),\n",
       " WindowsPath('Deeper Exploration of the Standard Library .ipynb'),\n",
       " WindowsPath('download.PNG'),\n",
       " WindowsPath('EDA.png'),\n",
       " WindowsPath('elections.csv'),\n",
       " WindowsPath('Faithfulness.png'),\n",
       " WindowsPath('Granularity.png'),\n",
       " WindowsPath('groupby.png'),\n",
       " WindowsPath('groupby2.png'),\n",
       " WindowsPath('groupby3.png'),\n",
       " WindowsPath('groupby4.png'),\n",
       " WindowsPath('HBD.docx'),\n",
       " WindowsPath('HDFC.png'),\n",
       " WindowsPath('How To Address Missing Data.png'),\n",
       " WindowsPath('iloc loc [].png'),\n",
       " WindowsPath('July5'),\n",
       " WindowsPath('keys.png'),\n",
       " WindowsPath('L1.ipynb'),\n",
       " WindowsPath('L3 Pandas.ipynb'),\n",
       " WindowsPath('L4 Pandas Advanced.ipynb'),\n",
       " WindowsPath('L5 Data Wrangling and EDA.ipynb'),\n",
       " WindowsPath('lab01.ipynb'),\n",
       " WindowsPath('majors.csv'),\n",
       " WindowsPath('Matrix Algebra.ipynb'),\n",
       " WindowsPath('Matrix Data all same.png'),\n",
       " WindowsPath('mottos.csv'),\n",
       " WindowsPath('multinomial.png'),\n",
       " WindowsPath('names.csv'),\n",
       " WindowsPath('pivot.png'),\n",
       " WindowsPath('pivot2.png'),\n",
       " WindowsPath('pivot3.png'),\n",
       " WindowsPath('pivot4.png'),\n",
       " WindowsPath('Playground.ipynb'),\n",
       " WindowsPath('Popularity of a name group.agg.png'),\n",
       " WindowsPath('puzzle.png'),\n",
       " WindowsPath('RawDownloader.ipynb'),\n",
       " WindowsPath('sales_team.csv'),\n",
       " WindowsPath('Temporality.png'),\n",
       " WindowsPath('UNIX TIME.png'),\n",
       " WindowsPath('Untitled.ipynb'),\n",
       " WindowsPath('Variable Feature Types.png'),\n",
       " WindowsPath('XRPUSDT'),\n",
       " WindowsPath('XRPUSDT-1m-2022-06-02.csv'),\n",
       " WindowsPath('XRPUSDT.ipynb')]"
      ]
     },
     "execution_count": 49,
     "metadata": {},
     "output_type": "execute_result"
    }
   ],
   "source": [
    "list(cwd_path.iterdir())"
   ]
  },
  {
   "cell_type": "code",
   "execution_count": 50,
   "id": "f51feca6",
   "metadata": {},
   "outputs": [
    {
     "data": {
      "text/plain": [
       "[WindowsPath('dataframe.png'),\n",
       " WindowsPath('download.PNG'),\n",
       " WindowsPath('EDA.png'),\n",
       " WindowsPath('Faithfulness.png'),\n",
       " WindowsPath('Granularity.png'),\n",
       " WindowsPath('groupby.png'),\n",
       " WindowsPath('groupby2.png'),\n",
       " WindowsPath('groupby3.png'),\n",
       " WindowsPath('groupby4.png'),\n",
       " WindowsPath('HDFC.png'),\n",
       " WindowsPath('How To Address Missing Data.png'),\n",
       " WindowsPath('iloc loc [].png'),\n",
       " WindowsPath('keys.png'),\n",
       " WindowsPath('Matrix Data all same.png'),\n",
       " WindowsPath('multinomial.png'),\n",
       " WindowsPath('pivot.png'),\n",
       " WindowsPath('pivot2.png'),\n",
       " WindowsPath('pivot3.png'),\n",
       " WindowsPath('pivot4.png'),\n",
       " WindowsPath('Popularity of a name group.agg.png'),\n",
       " WindowsPath('puzzle.png'),\n",
       " WindowsPath('Temporality.png'),\n",
       " WindowsPath('UNIX TIME.png'),\n",
       " WindowsPath('Variable Feature Types.png')]"
      ]
     },
     "execution_count": 50,
     "metadata": {},
     "output_type": "execute_result"
    }
   ],
   "source": [
    "# We can do pattern matching using glob\n",
    "# Here the **/*.png looks in all subfolders matching any file with the .jpeg ending\n",
    "\n",
    "[path for path in cwd_path.glob('**/*.png')]"
   ]
  },
  {
   "cell_type": "code",
   "execution_count": 51,
   "id": "a0b5212c",
   "metadata": {},
   "outputs": [],
   "source": [
    "# Challenge 1\n",
    "\n",
    "# Code a function to replace the file endings of all .txt files to .md within the current directory\n",
    "\n",
    "def replace_all_txt_with_md():\n",
    "    \n",
    "    for file_path in Path.cwd().glob(\"*.txt\"):\n",
    "        file_path.rename(file_path.with_suffix(\".md\"))"
   ]
  },
  {
   "cell_type": "code",
   "execution_count": 52,
   "id": "241047ef",
   "metadata": {},
   "outputs": [
    {
     "data": {
      "text/plain": [
       "9"
      ]
     },
     "execution_count": 52,
     "metadata": {},
     "output_type": "execute_result"
    }
   ],
   "source": [
    "Path('example.txt').write_text(\"# Example\")"
   ]
  },
  {
   "cell_type": "code",
   "execution_count": 53,
   "id": "763afd67",
   "metadata": {},
   "outputs": [],
   "source": [
    "replace_all_txt_with_md()"
   ]
  },
  {
   "cell_type": "code",
   "execution_count": 54,
   "id": "eebaa64b",
   "metadata": {},
   "outputs": [],
   "source": [
    "#Clean up the unwanted file\n",
    "Path('example.md').unlink()"
   ]
  },
  {
   "cell_type": "markdown",
   "id": "9ba2c59d",
   "metadata": {},
   "source": [
    "## datetime"
   ]
  },
  {
   "cell_type": "markdown",
   "id": "ad3306d7",
   "metadata": {},
   "source": [
    "The datetime module supplies classes for manipulating dates and times."
   ]
  },
  {
   "cell_type": "markdown",
   "id": "baff7114",
   "metadata": {},
   "source": [
    "### A note on timezones"
   ]
  },
  {
   "cell_type": "markdown",
   "id": "bd6bb583",
   "metadata": {},
   "source": [
    "Date and time objects may be categorized as “aware” or “naive” depending on whether or not they include timezone information."
   ]
  },
  {
   "cell_type": "markdown",
   "id": "694b8990",
   "metadata": {},
   "source": [
    "`datetime.date`\n",
    "Attributes: year, month, and day.\n",
    "\n",
    "`datetime.time`\n",
    "Attributes: hour, minute, second, microsecond, and tzinfo.\n",
    "\n",
    "`datetime.datetime`\n",
    "Attributes: year, month, day, hour, minute, second, microsecond, and tzinfo.\n",
    "\n",
    "`datetime.timedelta`\n",
    "A duration expressing the difference between two date, time, or datetime instances to microsecond resolution.\n",
    "\n",
    "`datetime.tzinfo`\n",
    "An abstract base class for time zone information objects. These are used by the datetime and time classes to provide a customizable notion of time adjustment (for example, to account for time zone and/or daylight saving time).\n",
    "\n",
    "`datetime.timezone`\n",
    "A class that implements the tzinfo abstract base class as a fixed offset from the UTC.\n",
    "\n"
   ]
  },
  {
   "cell_type": "markdown",
   "id": "d12aa5a8",
   "metadata": {},
   "source": [
    "Notes:\n",
    "- Objects of these types are immutable. (if the value of an object cannot be changed over time, then it is known as immutable)\n",
    "- Objects of these types are hashable, meaning that they can be used as dictionary keys.\n",
    "- Objects of these types support efficient pickling via the pickle module."
   ]
  },
  {
   "cell_type": "code",
   "execution_count": 1,
   "id": "4839cfd3",
   "metadata": {},
   "outputs": [],
   "source": [
    "import datetime"
   ]
  },
  {
   "cell_type": "markdown",
   "id": "f3eb663c",
   "metadata": {},
   "source": [
    "## date"
   ]
  },
  {
   "cell_type": "code",
   "execution_count": 2,
   "id": "1281c420",
   "metadata": {},
   "outputs": [
    {
     "data": {
      "text/plain": [
       "datetime.date(2022, 4, 24)"
      ]
     },
     "execution_count": 2,
     "metadata": {},
     "output_type": "execute_result"
    }
   ],
   "source": [
    "twenty_fourth_april = datetime.date(year=2022, month=4, day=24)\n",
    "twenty_fourth_april"
   ]
  },
  {
   "cell_type": "code",
   "execution_count": 3,
   "id": "1fd35adb",
   "metadata": {},
   "outputs": [
    {
     "data": {
      "text/plain": [
       "datetime.date(2022, 7, 8)"
      ]
     },
     "execution_count": 3,
     "metadata": {},
     "output_type": "execute_result"
    }
   ],
   "source": [
    "today = datetime.date.today()\n",
    "today"
   ]
  },
  {
   "cell_type": "code",
   "execution_count": 4,
   "id": "f303174d",
   "metadata": {},
   "outputs": [
    {
     "data": {
      "text/plain": [
       "(8, 7, 2022)"
      ]
     },
     "execution_count": 4,
     "metadata": {},
     "output_type": "execute_result"
    }
   ],
   "source": [
    "today.day, today.month, today.year"
   ]
  },
  {
   "cell_type": "markdown",
   "id": "7d92b0e7",
   "metadata": {},
   "source": [
    "## time"
   ]
  },
  {
   "cell_type": "code",
   "execution_count": 5,
   "id": "74cf6549",
   "metadata": {},
   "outputs": [
    {
     "data": {
      "text/plain": [
       "datetime.time(16, 30)"
      ]
     },
     "execution_count": 5,
     "metadata": {},
     "output_type": "execute_result"
    }
   ],
   "source": [
    "four_thirty = datetime.time(hour=16, minute=30, second=0, microsecond=0)\n",
    "four_thirty"
   ]
  },
  {
   "cell_type": "markdown",
   "id": "48874427",
   "metadata": {},
   "source": [
    "## datetime"
   ]
  },
  {
   "cell_type": "code",
   "execution_count": 6,
   "id": "d80baebe",
   "metadata": {},
   "outputs": [],
   "source": [
    "order_at = datetime.datetime(\n",
    "    year=2022,\n",
    "    month=9,\n",
    "    day=16,\n",
    "    hour=20,\n",
    "    minute=30,\n",
    "    second=12,\n",
    "    microsecond=123,\n",
    "    tzinfo=None\n",
    ")"
   ]
  },
  {
   "cell_type": "code",
   "execution_count": 7,
   "id": "6e6a41c8",
   "metadata": {},
   "outputs": [
    {
     "data": {
      "text/plain": [
       "datetime.datetime(2022, 9, 16, 20, 30, 12, 123)"
      ]
     },
     "execution_count": 7,
     "metadata": {},
     "output_type": "execute_result"
    }
   ],
   "source": [
    "order_at"
   ]
  },
  {
   "cell_type": "code",
   "execution_count": 8,
   "id": "9da394d9",
   "metadata": {},
   "outputs": [
    {
     "data": {
      "text/plain": [
       "datetime.date(2022, 9, 16)"
      ]
     },
     "execution_count": 8,
     "metadata": {},
     "output_type": "execute_result"
    }
   ],
   "source": [
    "order_at.date()"
   ]
  },
  {
   "cell_type": "code",
   "execution_count": 9,
   "id": "f9021add",
   "metadata": {},
   "outputs": [
    {
     "data": {
      "text/plain": [
       "datetime.time(20, 30, 12, 123)"
      ]
     },
     "execution_count": 9,
     "metadata": {},
     "output_type": "execute_result"
    }
   ],
   "source": [
    "order_at.time()"
   ]
  },
  {
   "cell_type": "code",
   "execution_count": 10,
   "id": "8762c31e",
   "metadata": {},
   "outputs": [
    {
     "data": {
      "text/plain": [
       "datetime.datetime(2022, 7, 8, 18, 13, 48, 282125)"
      ]
     },
     "execution_count": 10,
     "metadata": {},
     "output_type": "execute_result"
    }
   ],
   "source": [
    "now = datetime.datetime.now()\n",
    "now"
   ]
  },
  {
   "cell_type": "markdown",
   "id": "356d4964",
   "metadata": {},
   "source": [
    "## Key methods"
   ]
  },
  {
   "cell_type": "code",
   "execution_count": 11,
   "id": "2469e415",
   "metadata": {},
   "outputs": [
    {
     "data": {
      "text/plain": [
       "datetime.datetime(2022, 7, 8, 16, 30)"
      ]
     },
     "execution_count": 11,
     "metadata": {},
     "output_type": "execute_result"
    }
   ],
   "source": [
    "datetime.datetime.combine(date=today, time=four_thirty)"
   ]
  },
  {
   "cell_type": "code",
   "execution_count": 12,
   "id": "a9bf2a9d",
   "metadata": {},
   "outputs": [
    {
     "data": {
      "text/plain": [
       "'2022-07-08 16:30:00'"
      ]
     },
     "execution_count": 12,
     "metadata": {},
     "output_type": "execute_result"
    }
   ],
   "source": [
    "str(datetime.datetime.combine(date=today, time=four_thirty))"
   ]
  },
  {
   "cell_type": "code",
   "execution_count": 13,
   "id": "05b95507",
   "metadata": {},
   "outputs": [
    {
     "data": {
      "text/plain": [
       "'2022-07-08'"
      ]
     },
     "execution_count": 13,
     "metadata": {},
     "output_type": "execute_result"
    }
   ],
   "source": [
    "str(today)"
   ]
  },
  {
   "cell_type": "markdown",
   "id": "f7a6e9ee",
   "metadata": {},
   "source": [
    "## isoformat"
   ]
  },
  {
   "cell_type": "code",
   "execution_count": 14,
   "id": "a2ab5084",
   "metadata": {},
   "outputs": [
    {
     "data": {
      "text/plain": [
       "'2022-07-08'"
      ]
     },
     "execution_count": 14,
     "metadata": {},
     "output_type": "execute_result"
    }
   ],
   "source": [
    "#returns the string in the standardied form ISO 8601 format\n",
    "today.isoformat()"
   ]
  },
  {
   "cell_type": "code",
   "execution_count": 15,
   "id": "cb049973",
   "metadata": {},
   "outputs": [
    {
     "data": {
      "text/plain": [
       "'2022-07-08T18:13:48.282125'"
      ]
     },
     "execution_count": 15,
     "metadata": {},
     "output_type": "execute_result"
    }
   ],
   "source": [
    "now.isoformat()"
   ]
  },
  {
   "cell_type": "code",
   "execution_count": 16,
   "id": "8651c81e",
   "metadata": {},
   "outputs": [
    {
     "data": {
      "text/plain": [
       "datetime.date(2022, 4, 24)"
      ]
     },
     "execution_count": 16,
     "metadata": {},
     "output_type": "execute_result"
    }
   ],
   "source": [
    "datetime.date.fromisoformat('2022-04-24')"
   ]
  },
  {
   "cell_type": "code",
   "execution_count": 17,
   "id": "81db615e",
   "metadata": {},
   "outputs": [
    {
     "data": {
      "text/plain": [
       "datetime.datetime(2022, 4, 24, 17, 23, 54, 908505)"
      ]
     },
     "execution_count": 17,
     "metadata": {},
     "output_type": "execute_result"
    }
   ],
   "source": [
    "datetime.datetime.fromisoformat('2022-04-24T17:23:54.908505')"
   ]
  },
  {
   "cell_type": "markdown",
   "id": "bc5b8741",
   "metadata": {},
   "source": [
    "## more formats"
   ]
  },
  {
   "cell_type": "code",
   "execution_count": 18,
   "id": "58274f1f",
   "metadata": {},
   "outputs": [
    {
     "name": "stdout",
     "output_type": "stream",
     "text": [
      "now with format %a is Fri\n",
      "now with format %A is Friday\n",
      "now with format %w is 5\n",
      "now with format %d is 08\n",
      "now with format %b is Jul\n",
      "now with format %B is July\n",
      "now with format %m is 07\n",
      "now with format %y is 22\n",
      "now with format %Y is 2022\n",
      "now with format %H is 18\n",
      "now with format %I is 06\n",
      "now with format %p is PM\n",
      "now with format %M is 13\n",
      "now with format %S is 48\n",
      "now with format %f is 282125\n",
      "now with format %z is \n",
      "now with format %j is 189\n",
      "now with format %U is 27\n",
      "now with format %W is 27\n",
      "now with format %c is Fri Jul  8 18:13:48 2022\n",
      "now with format %x is 07/08/22\n",
      "now with format %X is 18:13:48\n",
      "now with format %% is %\n"
     ]
    }
   ],
   "source": [
    "# You can use the strftime method which has special formatting directives to help customise\n",
    "\n",
    "for format_str in [\n",
    "    '%a', '%A', '%w', '%d', '%b', '%B',\n",
    "    '%m', '%y', '%Y', '%H', '%I', '%p',\n",
    "    '%M', '%S', '%f', '%z', '%j', '%U',\n",
    "    '%W', '%c', '%x', '%X', '%%']:\n",
    "    print(f\"now with format {format_str} is {now.strftime(format_str)}\")"
   ]
  },
  {
   "cell_type": "code",
   "execution_count": 19,
   "id": "11cbf056",
   "metadata": {},
   "outputs": [
    {
     "data": {
      "text/plain": [
       "datetime.datetime(2022, 4, 24, 17, 23, 54)"
      ]
     },
     "execution_count": 19,
     "metadata": {},
     "output_type": "execute_result"
    }
   ],
   "source": [
    "# If you can specify the format you can convert from str to datetime\n",
    "\n",
    "datetime.datetime.strptime('Sunday-24-April----17:23:54   2022', \n",
    "                           '%A-%d-%B----%X   %Y')"
   ]
  },
  {
   "cell_type": "markdown",
   "id": "b2078ce7",
   "metadata": {},
   "source": [
    "## replace"
   ]
  },
  {
   "cell_type": "code",
   "execution_count": 74,
   "id": "0ab1b91b",
   "metadata": {},
   "outputs": [
    {
     "data": {
      "text/plain": [
       "datetime.date(2021, 7, 7)"
      ]
     },
     "execution_count": 74,
     "metadata": {},
     "output_type": "execute_result"
    }
   ],
   "source": [
    "today.replace(year=today.year - 1) #last year using replace"
   ]
  },
  {
   "cell_type": "code",
   "execution_count": 75,
   "id": "04c109b7",
   "metadata": {},
   "outputs": [
    {
     "data": {
      "text/plain": [
       "datetime.datetime(2022, 7, 7, 21, 38, 7, 867351)"
      ]
     },
     "execution_count": 75,
     "metadata": {},
     "output_type": "execute_result"
    }
   ],
   "source": [
    "now"
   ]
  },
  {
   "cell_type": "code",
   "execution_count": 76,
   "id": "fe430503",
   "metadata": {},
   "outputs": [
    {
     "data": {
      "text/plain": [
       "datetime.datetime(2022, 7, 7, 6, 38, 7, 867351)"
      ]
     },
     "execution_count": 76,
     "metadata": {},
     "output_type": "execute_result"
    }
   ],
   "source": [
    "now.replace(hour=6)"
   ]
  },
  {
   "cell_type": "markdown",
   "id": "6f2188db",
   "metadata": {},
   "source": [
    "## timedelta"
   ]
  },
  {
   "cell_type": "code",
   "execution_count": 77,
   "id": "846fe59a",
   "metadata": {},
   "outputs": [
    {
     "data": {
      "text/plain": [
       "datetime.timedelta(days=64, seconds=29156, microseconds=10)"
      ]
     },
     "execution_count": 77,
     "metadata": {},
     "output_type": "execute_result"
    }
   ],
   "source": [
    "delta = datetime.timedelta(\n",
    "    days=50,\n",
    "    seconds=27,\n",
    "    microseconds=10,\n",
    "    milliseconds=29000,\n",
    "    minutes=5,\n",
    "    hours=8,\n",
    "    weeks=2\n",
    ")\n",
    "# Only days, seconds, and microseconds remain\n",
    "delta"
   ]
  },
  {
   "cell_type": "code",
   "execution_count": 78,
   "id": "baad646b",
   "metadata": {},
   "outputs": [
    {
     "data": {
      "text/plain": [
       "datetime.timedelta(days=4, seconds=14400)"
      ]
     },
     "execution_count": 78,
     "metadata": {},
     "output_type": "execute_result"
    }
   ],
   "source": [
    "#What does a 100 hour journey mean?\n",
    "#It means\n",
    "journey = datetime.timedelta(\n",
    "    hours=100\n",
    ")\n",
    "journey"
   ]
  },
  {
   "cell_type": "code",
   "execution_count": 79,
   "id": "60f936cc",
   "metadata": {},
   "outputs": [
    {
     "data": {
      "text/plain": [
       "(5558756.00001, 360000.0)"
      ]
     },
     "execution_count": 79,
     "metadata": {},
     "output_type": "execute_result"
    }
   ],
   "source": [
    "delta.total_seconds(), journey.total_seconds()"
   ]
  },
  {
   "cell_type": "code",
   "execution_count": 80,
   "id": "3b10b196",
   "metadata": {},
   "outputs": [],
   "source": [
    "# Challenge 1\n",
    "\n",
    "# Write a function days_until_next_birthday taking a month and a day and returning an integer number of \n",
    "# days until the date.\n",
    "\n",
    "def days_until_next_birthday(month:int, day:int) -> int:\n",
    "    today = datetime.date.today()\n",
    "    birthday = today.replace(month=month, day=day)\n",
    "    if birthday<today:\n",
    "        birthday = birthday.replace(year=birthday.year + 1)\n",
    "    return(birthday - today).days\n",
    "\n"
   ]
  },
  {
   "cell_type": "code",
   "execution_count": 81,
   "id": "2c79344e",
   "metadata": {},
   "outputs": [
    {
     "data": {
      "text/plain": [
       "268"
      ]
     },
     "execution_count": 81,
     "metadata": {},
     "output_type": "execute_result"
    }
   ],
   "source": [
    "days_until_next_birthday(month=4, day=1)"
   ]
  },
  {
   "cell_type": "markdown",
   "id": "fb976626",
   "metadata": {},
   "source": [
    "## collections"
   ]
  },
  {
   "cell_type": "markdown",
   "id": "7b1772f5",
   "metadata": {},
   "source": [
    "This module implements specialized container datatypes providing alternatives to Python’s general purpose built-in containers, dict, list, set, and tuple.\n"
   ]
  },
  {
   "cell_type": "markdown",
   "id": "c541f0d9",
   "metadata": {},
   "source": [
    "| Name         | Description                                                          |\n",
    "| ------------ | -------------------------------------------------------------------- |\n",
    "| namedtuple() | factory function for creating tuple subclasses with named fields     |\n",
    "| deque        | list-like container with fast appends and pops on either end         |\n",
    "| ChainMap     | dict-like class for creating a single view of multiple mappings      |\n",
    "| Counter      | dict subclass for counting hashable objects                          |\n",
    "| OrderedDict  | dict subclass that remembers the order entries were added            |\n",
    "| defaultdict  | dict subclass that calls a factory function to supply missing values |\n",
    "| UserDict     | wrapper around dictionary objects for easier dict subclassing        |\n",
    "| UserList     | wrapper around list objects for easier list subclassing              |\n",
    "| UserString   | wrapper around string objects for easier string subclassing          |\n"
   ]
  },
  {
   "cell_type": "code",
   "execution_count": 82,
   "id": "aa4406c9",
   "metadata": {},
   "outputs": [],
   "source": [
    "from collections import Counter\n",
    "from collections import deque\n",
    "from collections import defaultdict\n",
    "from collections import namedtuple"
   ]
  },
  {
   "cell_type": "markdown",
   "id": "1802436c",
   "metadata": {},
   "source": [
    "### Counter"
   ]
  },
  {
   "cell_type": "markdown",
   "id": "2574f3b3",
   "metadata": {},
   "source": [
    "A Counter is a dict subclass for counting hashable objects. It is a collection where elements are stored as dictionary keys and their counts are stored as dictionary values."
   ]
  },
  {
   "cell_type": "code",
   "execution_count": 83,
   "id": "c6c110ca",
   "metadata": {},
   "outputs": [
    {
     "data": {
      "text/plain": [
       "Counter({'m': 1, 'i': 4, 's': 3, 'p': 2})"
      ]
     },
     "execution_count": 83,
     "metadata": {},
     "output_type": "execute_result"
    }
   ],
   "source": [
    "# From an string (iterable)\n",
    "counter = Counter('misissippi')\n",
    "counter"
   ]
  },
  {
   "cell_type": "code",
   "execution_count": 84,
   "id": "4a8415ae",
   "metadata": {},
   "outputs": [
    {
     "data": {
      "text/plain": [
       "Counter({'cat': 3, 'dog': 2, 'gold fish': 1})"
      ]
     },
     "execution_count": 84,
     "metadata": {},
     "output_type": "execute_result"
    }
   ],
   "source": [
    "# From an iterable\n",
    "counter = Counter([\"cat\", \"cat\", \"dog\", \"dog\", \"cat\", \"gold fish\"])\n",
    "counter"
   ]
  },
  {
   "cell_type": "code",
   "execution_count": 85,
   "id": "70a59834",
   "metadata": {},
   "outputs": [
    {
     "data": {
      "text/plain": [
       "0"
      ]
     },
     "execution_count": 85,
     "metadata": {},
     "output_type": "execute_result"
    }
   ],
   "source": [
    "counter['shark']"
   ]
  },
  {
   "cell_type": "code",
   "execution_count": 86,
   "id": "3d6ebdd4",
   "metadata": {},
   "outputs": [
    {
     "data": {
      "text/plain": [
       "['cat', 'cat', 'cat', 'dog', 'dog', 'gold fish']"
      ]
     },
     "execution_count": 86,
     "metadata": {},
     "output_type": "execute_result"
    }
   ],
   "source": [
    "list(counter.elements())"
   ]
  },
  {
   "cell_type": "code",
   "execution_count": 87,
   "id": "2060d9e8",
   "metadata": {},
   "outputs": [
    {
     "data": {
      "text/plain": [
       "[('cat', 3), ('dog', 2)]"
      ]
     },
     "execution_count": 87,
     "metadata": {},
     "output_type": "execute_result"
    }
   ],
   "source": [
    "#Nice and fast using the standard library heapq\n",
    "counter.most_common(2)"
   ]
  },
  {
   "cell_type": "code",
   "execution_count": 88,
   "id": "c6b261fd",
   "metadata": {},
   "outputs": [],
   "source": [
    "another_counter = Counter({'cat':3, 'dog':10})"
   ]
  },
  {
   "cell_type": "code",
   "execution_count": 89,
   "id": "72ff9476",
   "metadata": {},
   "outputs": [
    {
     "data": {
      "text/plain": [
       "Counter({'cat': 6, 'dog': 12, 'gold fish': 1})"
      ]
     },
     "execution_count": 89,
     "metadata": {},
     "output_type": "execute_result"
    }
   ],
   "source": [
    "counter + another_counter"
   ]
  },
  {
   "cell_type": "code",
   "execution_count": 90,
   "id": "31c6785d",
   "metadata": {},
   "outputs": [
    {
     "data": {
      "text/plain": [
       "Counter({'cat': 3, 'dog': 2, 'gold fish': 1})"
      ]
     },
     "execution_count": 90,
     "metadata": {},
     "output_type": "execute_result"
    }
   ],
   "source": [
    "counter"
   ]
  },
  {
   "cell_type": "code",
   "execution_count": 91,
   "id": "ccb918f3",
   "metadata": {},
   "outputs": [
    {
     "data": {
      "text/plain": [
       "[('cat', 3), ('dog', 2)]"
      ]
     },
     "execution_count": 91,
     "metadata": {},
     "output_type": "execute_result"
    }
   ],
   "source": [
    "#Nice and fast using the standard library heapq\n",
    "counter.most_common(2)"
   ]
  },
  {
   "cell_type": "code",
   "execution_count": 92,
   "id": "7873cdb3",
   "metadata": {},
   "outputs": [],
   "source": [
    "counter['dog'] += 1"
   ]
  },
  {
   "cell_type": "code",
   "execution_count": 93,
   "id": "92e37d97",
   "metadata": {},
   "outputs": [
    {
     "data": {
      "text/plain": [
       "Counter({'cat': 3, 'dog': 3, 'gold fish': 1})"
      ]
     },
     "execution_count": 93,
     "metadata": {},
     "output_type": "execute_result"
    }
   ],
   "source": [
    "counter"
   ]
  },
  {
   "cell_type": "markdown",
   "id": "f92d5e30",
   "metadata": {},
   "source": [
    "## deque"
   ]
  },
  {
   "cell_type": "markdown",
   "id": "8726837e",
   "metadata": {},
   "source": [
    "Deques support thread-safe, memory efficient appends and pops from either side of the deque with approximately the same O(1) performance in either direction"
   ]
  },
  {
   "cell_type": "code",
   "execution_count": 94,
   "id": "3b0bfa44",
   "metadata": {},
   "outputs": [],
   "source": [
    "example_deque = deque(range(5))"
   ]
  },
  {
   "cell_type": "code",
   "execution_count": 95,
   "id": "4fe85d75",
   "metadata": {},
   "outputs": [
    {
     "data": {
      "text/plain": [
       "deque([0, 1, 2, 3, 4])"
      ]
     },
     "execution_count": 95,
     "metadata": {},
     "output_type": "execute_result"
    }
   ],
   "source": [
    "example_deque"
   ]
  },
  {
   "cell_type": "code",
   "execution_count": 96,
   "id": "e268a950",
   "metadata": {},
   "outputs": [],
   "source": [
    "example_deque.append(5)\n",
    "example_deque.appendleft(-1)"
   ]
  },
  {
   "cell_type": "code",
   "execution_count": 97,
   "id": "fc779264",
   "metadata": {},
   "outputs": [
    {
     "data": {
      "text/plain": [
       "deque([-1, 0, 1, 2, 3, 4, 5])"
      ]
     },
     "execution_count": 97,
     "metadata": {},
     "output_type": "execute_result"
    }
   ],
   "source": [
    "example_deque"
   ]
  },
  {
   "cell_type": "code",
   "execution_count": 98,
   "id": "455e7b47",
   "metadata": {},
   "outputs": [
    {
     "data": {
      "text/plain": [
       "deque([-4, -3, -2, -1, 0, 1, 2, 3, 4, 5, 6, 7, 8])"
      ]
     },
     "execution_count": 98,
     "metadata": {},
     "output_type": "execute_result"
    }
   ],
   "source": [
    "example_deque.extend([6, 7, 8])\n",
    "example_deque.extendleft([-2, -3, -4]) # Note the ordering.\n",
    "example_deque"
   ]
  },
  {
   "cell_type": "code",
   "execution_count": 99,
   "id": "ee77a442",
   "metadata": {},
   "outputs": [
    {
     "data": {
      "text/plain": [
       "7"
      ]
     },
     "execution_count": 99,
     "metadata": {},
     "output_type": "execute_result"
    }
   ],
   "source": [
    "example_deque.index(3)"
   ]
  },
  {
   "cell_type": "code",
   "execution_count": 100,
   "id": "6a8aee1b",
   "metadata": {},
   "outputs": [],
   "source": [
    "# This is inplace\n",
    "# meaning the object is edited directly instead of creating a new reversed deque\n",
    "example_deque.reverse()"
   ]
  },
  {
   "cell_type": "code",
   "execution_count": 101,
   "id": "e931772b",
   "metadata": {},
   "outputs": [
    {
     "data": {
      "text/plain": [
       "deque([8, 7, 6, 5, 4, 3, 2, 1, 0, -1, -2, -3, -4])"
      ]
     },
     "execution_count": 101,
     "metadata": {},
     "output_type": "execute_result"
    }
   ],
   "source": [
    "example_deque"
   ]
  },
  {
   "cell_type": "markdown",
   "id": "9499fadb",
   "metadata": {},
   "source": [
    "deque with maxlen"
   ]
  },
  {
   "cell_type": "code",
   "execution_count": 102,
   "id": "fa1f745d",
   "metadata": {},
   "outputs": [
    {
     "data": {
      "text/plain": [
       "deque([0, 1, 2, 3, 4])"
      ]
     },
     "execution_count": 102,
     "metadata": {},
     "output_type": "execute_result"
    }
   ],
   "source": [
    "limited_deque = deque(range(5), maxlen=5)\n",
    "limited_deque"
   ]
  },
  {
   "cell_type": "code",
   "execution_count": 103,
   "id": "4843aa90",
   "metadata": {},
   "outputs": [
    {
     "data": {
      "text/plain": [
       "deque([1, 2, 3, 4, 5])"
      ]
     },
     "execution_count": 103,
     "metadata": {},
     "output_type": "execute_result"
    }
   ],
   "source": [
    "#note this pops off the first 0\n",
    "limited_deque.append(5)\n",
    "limited_deque"
   ]
  },
  {
   "cell_type": "code",
   "execution_count": 104,
   "id": "a828b06d",
   "metadata": {},
   "outputs": [
    {
     "data": {
      "text/plain": [
       "deque([0, 1, 2, 3, 4])"
      ]
     },
     "execution_count": 104,
     "metadata": {},
     "output_type": "execute_result"
    }
   ],
   "source": [
    "# this pushes off the 5 off the other end\n",
    "limited_deque.appendleft(0)\n",
    "limited_deque"
   ]
  },
  {
   "cell_type": "code",
   "execution_count": 105,
   "id": "0fb5f40a",
   "metadata": {},
   "outputs": [
    {
     "data": {
      "text/plain": [
       "deque([3, 4, 5, 6, 7])"
      ]
     },
     "execution_count": 105,
     "metadata": {},
     "output_type": "execute_result"
    }
   ],
   "source": [
    "# this sequentiall pushes the 5, 6, 7 \n",
    "# onto the right end forcing out the 0, 1, 2\n",
    "limited_deque.extend([5, 6, 7])\n",
    "limited_deque"
   ]
  },
  {
   "cell_type": "code",
   "execution_count": 106,
   "id": "002e6a7c",
   "metadata": {},
   "outputs": [
    {
     "data": {
      "text/plain": [
       "deque([6, 7, 3, 4, 5])"
      ]
     },
     "execution_count": 106,
     "metadata": {},
     "output_type": "execute_result"
    }
   ],
   "source": [
    "# this rotates elements n steps. \n",
    "limited_deque.rotate(2)\n",
    "limited_deque"
   ]
  },
  {
   "cell_type": "code",
   "execution_count": 107,
   "id": "5727960e",
   "metadata": {},
   "outputs": [
    {
     "data": {
      "text/plain": [
       "5"
      ]
     },
     "execution_count": 107,
     "metadata": {},
     "output_type": "execute_result"
    }
   ],
   "source": [
    "# we can access the maxlen\n",
    "limited_deque.maxlen"
   ]
  },
  {
   "cell_type": "code",
   "execution_count": 108,
   "id": "52caa707",
   "metadata": {},
   "outputs": [
    {
     "data": {
      "text/plain": [
       "deque([])"
      ]
     },
     "execution_count": 108,
     "metadata": {},
     "output_type": "execute_result"
    }
   ],
   "source": [
    "limited_deque.clear()\n",
    "limited_deque"
   ]
  },
  {
   "cell_type": "code",
   "execution_count": 109,
   "id": "f1895b41",
   "metadata": {},
   "outputs": [
    {
     "data": {
      "text/plain": [
       "deque([3, 4, 5])"
      ]
     },
     "execution_count": 109,
     "metadata": {},
     "output_type": "execute_result"
    }
   ],
   "source": [
    "# note if the initial iterable is longer than\n",
    "# the maxlen then we only get the last n elements\n",
    "deque([1,2,3,4,5], maxlen=3)"
   ]
  },
  {
   "cell_type": "markdown",
   "id": "6b2670d1",
   "metadata": {},
   "source": [
    "### defaultdict"
   ]
  },
  {
   "cell_type": "code",
   "execution_count": 110,
   "id": "38bc9750",
   "metadata": {},
   "outputs": [
    {
     "data": {
      "text/plain": [
       "'imagine we want to take a sentence and store words in lists in a dictionary keyed on the letter that each word starts with'"
      ]
     },
     "execution_count": 110,
     "metadata": {},
     "output_type": "execute_result"
    }
   ],
   "source": [
    "sentence = (\n",
    "    \"imagine we want to take a sentence and store words in lists in\"\n",
    "    \" a dictionary keyed on the letter that each word starts with\")\n",
    "sentence"
   ]
  },
  {
   "cell_type": "code",
   "execution_count": 111,
   "id": "324a2fa5",
   "metadata": {},
   "outputs": [
    {
     "data": {
      "text/plain": [
       "{'i': ['imagine', 'in', 'in'],\n",
       " 'w': ['we', 'want', 'words', 'word', 'with'],\n",
       " 't': ['to', 'take', 'the', 'that'],\n",
       " 'a': ['a', 'and', 'a'],\n",
       " 's': ['sentence', 'store', 'starts'],\n",
       " 'l': ['lists', 'letter'],\n",
       " 'd': ['dictionary'],\n",
       " 'k': ['keyed'],\n",
       " 'o': ['on'],\n",
       " 'e': ['each']}"
      ]
     },
     "execution_count": 111,
     "metadata": {},
     "output_type": "execute_result"
    }
   ],
   "source": [
    "words_by_starting_letter = {}\n",
    "for word in sentence.split(' '):\n",
    "    if word[0] not in words_by_starting_letter:\n",
    "        words_by_starting_letter[word[0]] = [word]\n",
    "    else: # we know it's a list so append\n",
    "        words_by_starting_letter[word[0]].append(word)\n",
    "\n",
    "words_by_starting_letter"
   ]
  },
  {
   "cell_type": "code",
   "execution_count": 112,
   "id": "5ff37fb9",
   "metadata": {},
   "outputs": [
    {
     "data": {
      "text/plain": [
       "defaultdict(list,\n",
       "            {'i': ['imagine', 'in', 'in'],\n",
       "             'w': ['we', 'want', 'words', 'word', 'with'],\n",
       "             't': ['to', 'take', 'the', 'that'],\n",
       "             'a': ['a', 'and', 'a'],\n",
       "             's': ['sentence', 'store', 'starts'],\n",
       "             'l': ['lists', 'letter'],\n",
       "             'd': ['dictionary'],\n",
       "             'k': ['keyed'],\n",
       "             'o': ['on'],\n",
       "             'e': ['each']})"
      ]
     },
     "execution_count": 112,
     "metadata": {},
     "output_type": "execute_result"
    }
   ],
   "source": [
    "words_by_starting_letter = defaultdict(list)\n",
    "for word in sentence.split(' '):\n",
    "    words_by_starting_letter[word[0]].append(word)\n",
    "words_by_starting_letter\n"
   ]
  },
  {
   "cell_type": "code",
   "execution_count": 113,
   "id": "0627bfe6",
   "metadata": {},
   "outputs": [
    {
     "data": {
      "text/plain": [
       "defaultdict(int, {'m': 1, 'i': 4, 's': 4, 'p': 2})"
      ]
     },
     "execution_count": 113,
     "metadata": {},
     "output_type": "execute_result"
    }
   ],
   "source": [
    "# An example from the offical docs:\n",
    "s = 'mississippi'\n",
    "letter_counts = defaultdict(int)\n",
    "for char in s:\n",
    "    letter_counts[char] += 1\n",
    "\n",
    "letter_counts"
   ]
  },
  {
   "cell_type": "markdown",
   "id": "9a295e4e",
   "metadata": {},
   "source": [
    "### named tuple"
   ]
  },
  {
   "cell_type": "markdown",
   "id": "f6d9622f",
   "metadata": {},
   "source": [
    "Named tuples assign meaning to each position in a tuple and allow for more readable, self-documenting code. "
   ]
  },
  {
   "cell_type": "code",
   "execution_count": 114,
   "id": "e8cf9078",
   "metadata": {},
   "outputs": [
    {
     "data": {
      "text/plain": [
       "[{'name': 'John Smith',\n",
       "  'age': 10,\n",
       "  'on_vacation': False,\n",
       "  'test_scores': [66, 85, 39, 61, 16, 92, 33, 3, 87, 71]},\n",
       " {'name': 'Jane Doe',\n",
       "  'age': 10,\n",
       "  'on_vacation': False,\n",
       "  'test_scores': [4, 73, 75, 4, 50, 83, 8, 23, 42, 23]},\n",
       " {'name': 'Isaac Newton',\n",
       "  'age': 30,\n",
       "  'on_vacation': True,\n",
       "  'test_scores': [93, 96, 94, 92, 95, 90, 100, 98, 90, 94]}]"
      ]
     },
     "execution_count": 114,
     "metadata": {},
     "output_type": "execute_result"
    }
   ],
   "source": [
    "student_data"
   ]
  },
  {
   "cell_type": "code",
   "execution_count": 115,
   "id": "d8afce9c",
   "metadata": {},
   "outputs": [],
   "source": [
    "student = ('Simon Ward-Jones', 30, True, [100, 100, 100, 99, 100])"
   ]
  },
  {
   "cell_type": "code",
   "execution_count": 116,
   "id": "d7bb85bf",
   "metadata": {},
   "outputs": [],
   "source": [
    "def display_student(student):\n",
    "    print(f\"Student {student[0]} is {student[1]} years old \"\n",
    "          f\"and has test scores {student[3]}\")"
   ]
  },
  {
   "cell_type": "code",
   "execution_count": 117,
   "id": "95c4301e",
   "metadata": {},
   "outputs": [
    {
     "name": "stdout",
     "output_type": "stream",
     "text": [
      "Student Simon Ward-Jones is 30 years old and has test scores [100, 100, 100, 99, 100]\n"
     ]
    }
   ],
   "source": [
    "display_student(student)"
   ]
  },
  {
   "cell_type": "markdown",
   "id": "c5812ede",
   "metadata": {},
   "source": [
    "### Instead let's create a named tuple"
   ]
  },
  {
   "cell_type": "code",
   "execution_count": 118,
   "id": "9dd9371c",
   "metadata": {},
   "outputs": [],
   "source": [
    "Student = namedtuple(\"Student\", \"name age on_vacation test_scores\")"
   ]
  },
  {
   "cell_type": "code",
   "execution_count": 119,
   "id": "f5fb4909",
   "metadata": {},
   "outputs": [],
   "source": [
    "Student = namedtuple(\"Student\", [\"name\", \"age\", \"on_vacation\", \"test_scores\"])"
   ]
  },
  {
   "cell_type": "code",
   "execution_count": 120,
   "id": "a6cebf50",
   "metadata": {},
   "outputs": [],
   "source": [
    "simon = Student(name='Simon Ward-Jones',\n",
    "                age=30,\n",
    "                on_vacation=True,\n",
    "               test_scores=[100,100,100,99,100])"
   ]
  },
  {
   "cell_type": "code",
   "execution_count": 121,
   "id": "5c6859a9",
   "metadata": {},
   "outputs": [
    {
     "data": {
      "text/plain": [
       "True"
      ]
     },
     "execution_count": 121,
     "metadata": {},
     "output_type": "execute_result"
    }
   ],
   "source": [
    "simon[2]"
   ]
  },
  {
   "cell_type": "code",
   "execution_count": 122,
   "id": "65d0ae26",
   "metadata": {},
   "outputs": [
    {
     "data": {
      "text/plain": [
       "True"
      ]
     },
     "execution_count": 122,
     "metadata": {},
     "output_type": "execute_result"
    }
   ],
   "source": [
    "simon.on_vacation"
   ]
  },
  {
   "cell_type": "code",
   "execution_count": 123,
   "id": "d63bf742",
   "metadata": {},
   "outputs": [],
   "source": [
    "def display_student(student: Student):\n",
    "    print(f\"Student {student.name} is {student.age} years old\"\n",
    "         f\"and has test scores {student.test_scores}\")"
   ]
  },
  {
   "cell_type": "code",
   "execution_count": 124,
   "id": "69b790a9",
   "metadata": {},
   "outputs": [
    {
     "data": {
      "text/plain": [
       "Student(name='Simon Ward-Jones', age=30, on_vacation=True, test_scores=[100, 100, 100, 99, 100])"
      ]
     },
     "metadata": {},
     "output_type": "display_data"
    }
   ],
   "source": [
    "display(simon)"
   ]
  },
  {
   "cell_type": "markdown",
   "id": "e5891d22",
   "metadata": {},
   "source": [
    "Named tuples are immutable and therefore another named tuple has to be created"
   ]
  },
  {
   "cell_type": "code",
   "execution_count": 125,
   "id": "74e5589f",
   "metadata": {},
   "outputs": [
    {
     "data": {
      "text/plain": [
       "Student(name='Simon Ward-Jones', age=31, on_vacation=True, test_scores=[100, 100, 100, 99, 100])"
      ]
     },
     "execution_count": 125,
     "metadata": {},
     "output_type": "execute_result"
    }
   ],
   "source": [
    "older_simon = simon._replace(age=31)\n",
    "older_simon # note this is a new instance!"
   ]
  },
  {
   "cell_type": "code",
   "execution_count": 126,
   "id": "10750fab",
   "metadata": {},
   "outputs": [
    {
     "data": {
      "text/plain": [
       "('name', 'age', 'on_vacation', 'test_scores')"
      ]
     },
     "execution_count": 126,
     "metadata": {},
     "output_type": "execute_result"
    }
   ],
   "source": [
    "simon._fields"
   ]
  },
  {
   "cell_type": "code",
   "execution_count": 127,
   "id": "f4128e87",
   "metadata": {},
   "outputs": [],
   "source": [
    "# We can also do the same thing using the typing.NamedTuple"
   ]
  },
  {
   "cell_type": "code",
   "execution_count": 128,
   "id": "e4547750",
   "metadata": {},
   "outputs": [],
   "source": [
    "from typing import NamedTuple, List"
   ]
  },
  {
   "cell_type": "code",
   "execution_count": 129,
   "id": "979f5646",
   "metadata": {},
   "outputs": [],
   "source": [
    "class Student(NamedTuple):\n",
    "    name: str\n",
    "    age: int\n",
    "    on_vacation: bool\n",
    "    test_scores: List[int]"
   ]
  },
  {
   "cell_type": "code",
   "execution_count": 130,
   "id": "d10ac73b",
   "metadata": {},
   "outputs": [],
   "source": [
    "simon = Student(\n",
    "    name='Simon Ward-Jones', \n",
    "    age=30,\n",
    "    on_vacation=True,\n",
    "    test_scores=[100, 100, 100, 99, 100])"
   ]
  },
  {
   "cell_type": "code",
   "execution_count": 131,
   "id": "4850abc5",
   "metadata": {},
   "outputs": [
    {
     "data": {
      "text/plain": [
       "Student(name='Simon Ward-Jones', age=30, on_vacation=True, test_scores=[100, 100, 100, 99, 100])"
      ]
     },
     "execution_count": 131,
     "metadata": {},
     "output_type": "execute_result"
    }
   ],
   "source": [
    "simon"
   ]
  },
  {
   "cell_type": "code",
   "execution_count": 132,
   "id": "7d698a3d",
   "metadata": {},
   "outputs": [
    {
     "data": {
      "text/plain": [
       "{'name': 'John Smith',\n",
       " 'age': 10,\n",
       " 'on_vacation': False,\n",
       " 'test_scores': [66, 85, 39, 61, 16, 92, 33, 3, 87, 71]}"
      ]
     },
     "execution_count": 132,
     "metadata": {},
     "output_type": "execute_result"
    }
   ],
   "source": [
    "student_data[0]"
   ]
  },
  {
   "cell_type": "code",
   "execution_count": 133,
   "id": "24cf037b",
   "metadata": {},
   "outputs": [],
   "source": [
    "students = [Student._make(student.values()) for student in student_data]"
   ]
  },
  {
   "cell_type": "code",
   "execution_count": 134,
   "id": "5ae708e4",
   "metadata": {},
   "outputs": [
    {
     "data": {
      "text/plain": [
       "[Student(name='John Smith', age=10, on_vacation=False, test_scores=[66, 85, 39, 61, 16, 92, 33, 3, 87, 71]),\n",
       " Student(name='Jane Doe', age=10, on_vacation=False, test_scores=[4, 73, 75, 4, 50, 83, 8, 23, 42, 23]),\n",
       " Student(name='Isaac Newton', age=30, on_vacation=True, test_scores=[93, 96, 94, 92, 95, 90, 100, 98, 90, 94])]"
      ]
     },
     "execution_count": 134,
     "metadata": {},
     "output_type": "execute_result"
    }
   ],
   "source": [
    "students"
   ]
  },
  {
   "cell_type": "code",
   "execution_count": 135,
   "id": "86c3fb1f",
   "metadata": {},
   "outputs": [],
   "source": [
    "# Challenge 3\n",
    "\n",
    "# Create a namedtuple called Point with and x and y attribute to represent points on a grid\n",
    "# Create a list with 100 random points with x values in 1,2,3 and y values in 1,2,3\n",
    "# Find the most common point in the list\n",
    "\n",
    "# Hint: use random.randint(1, 3)\n",
    "\n",
    "\n"
   ]
  },
  {
   "cell_type": "code",
   "execution_count": 136,
   "id": "1c33fb2a",
   "metadata": {},
   "outputs": [],
   "source": [
    "from random import randint\n",
    "\n",
    "Point = namedtuple(\"Point\", \"x y\")\n",
    "\n",
    "class Point(NamedTuple):\n",
    "    x: int\n",
    "    y: int\n",
    "        \n",
    "points = [Point(randint(1,3), randint(1,3)) for i in range(100)]"
   ]
  },
  {
   "cell_type": "code",
   "execution_count": 137,
   "id": "a97e61d8",
   "metadata": {},
   "outputs": [
    {
     "data": {
      "text/plain": [
       "Counter({Point(x=3, y=2): 9,\n",
       "         Point(x=3, y=1): 12,\n",
       "         Point(x=2, y=1): 9,\n",
       "         Point(x=2, y=2): 17,\n",
       "         Point(x=1, y=2): 12,\n",
       "         Point(x=1, y=1): 11,\n",
       "         Point(x=1, y=3): 10,\n",
       "         Point(x=2, y=3): 9,\n",
       "         Point(x=3, y=3): 11})"
      ]
     },
     "execution_count": 137,
     "metadata": {},
     "output_type": "execute_result"
    }
   ],
   "source": [
    "counter = Counter(points)\n",
    "counter"
   ]
  },
  {
   "cell_type": "code",
   "execution_count": 138,
   "id": "61b9e069",
   "metadata": {},
   "outputs": [
    {
     "name": "stdout",
     "output_type": "stream",
     "text": [
      "Point(x=2, y=2) appears 17 times\n"
     ]
    }
   ],
   "source": [
    "most_common, count = Counter(points).most_common(1)[0]\n",
    "print(f\"{most_common} appears {count} times\")"
   ]
  },
  {
   "cell_type": "markdown",
   "id": "9a8e6504",
   "metadata": {},
   "source": [
    "## itertools"
   ]
  },
  {
   "cell_type": "markdown",
   "id": "dd5e9e2a",
   "metadata": {},
   "source": [
    "This module implements a number of iterator building blocks!"
   ]
  },
  {
   "cell_type": "code",
   "execution_count": 139,
   "id": "bbefe280",
   "metadata": {},
   "outputs": [],
   "source": [
    "import itertools"
   ]
  },
  {
   "cell_type": "code",
   "execution_count": 140,
   "id": "268bcc75",
   "metadata": {},
   "outputs": [
    {
     "data": {
      "text/plain": [
       "[{'name': 'John Smith',\n",
       "  'age': 10,\n",
       "  'on_vacation': False,\n",
       "  'test_scores': [66, 85, 39, 61, 16, 92, 33, 3, 87, 71]},\n",
       " {'name': 'Jane Doe',\n",
       "  'age': 10,\n",
       "  'on_vacation': False,\n",
       "  'test_scores': [4, 73, 75, 4, 50, 83, 8, 23, 42, 23]},\n",
       " {'name': 'Isaac Newton',\n",
       "  'age': 30,\n",
       "  'on_vacation': True,\n",
       "  'test_scores': [93, 96, 94, 92, 95, 90, 100, 98, 90, 94]}]"
      ]
     },
     "execution_count": 140,
     "metadata": {},
     "output_type": "execute_result"
    }
   ],
   "source": [
    "student_data"
   ]
  },
  {
   "cell_type": "markdown",
   "id": "ee896971",
   "metadata": {},
   "source": [
    "### Quick asside -> What is an iterable and what is an iterator and how a for loop works"
   ]
  },
  {
   "cell_type": "markdown",
   "id": "130ee117",
   "metadata": {},
   "source": [
    "Iterators\n",
    "\n",
    "An iterator is an object that implements the iterator protocol. In other words, an iterator is an object that implements the following methods:\n",
    "\n",
    "`__iter__` returns the iterator object itself.\n",
    "\n",
    "`__next__` returns the next element.\n",
    "\n",
    "It means that you cannot use the iterator object again.\n",
    "\n",
    "Iterables\n",
    "\n",
    "An iterable is an object that you can iterate over.\n",
    "\n",
    "An object is iterable when it implements the `__iter__` method. And its `__iter__` method returns a new iterator."
   ]
  },
  {
   "cell_type": "code",
   "execution_count": 141,
   "id": "2b200dd6",
   "metadata": {},
   "outputs": [],
   "source": [
    "# An iterator implements two very special functions \n",
    "# __iter__ -> Must return an iterable\n",
    "# __next__ -> Steps through the iterator"
   ]
  },
  {
   "cell_type": "code",
   "execution_count": 142,
   "id": "31a76f61",
   "metadata": {},
   "outputs": [
    {
     "data": {
      "text/plain": [
       "<method-wrapper '__iter__' of list object at 0x000000000972F880>"
      ]
     },
     "execution_count": 142,
     "metadata": {},
     "output_type": "execute_result"
    }
   ],
   "source": [
    "student_data.__iter__"
   ]
  },
  {
   "cell_type": "code",
   "execution_count": 143,
   "id": "5100a2a6",
   "metadata": {},
   "outputs": [
    {
     "name": "stdout",
     "output_type": "stream",
     "text": [
      "{'name': 'John Smith', 'age': 10, 'on_vacation': False, 'test_scores': [66, 85, 39, 61, 16, 92, 33, 3, 87, 71]}\n",
      "{'name': 'Jane Doe', 'age': 10, 'on_vacation': False, 'test_scores': [4, 73, 75, 4, 50, 83, 8, 23, 42, 23]}\n",
      "{'name': 'Isaac Newton', 'age': 30, 'on_vacation': True, 'test_scores': [93, 96, 94, 92, 95, 90, 100, 98, 90, 94]}\n"
     ]
    }
   ],
   "source": [
    "#What is really going on in this for loop?\n",
    "for item in student_data:\n",
    "    print(item)"
   ]
  },
  {
   "cell_type": "code",
   "execution_count": 144,
   "id": "e91650fa",
   "metadata": {},
   "outputs": [
    {
     "data": {
      "text/plain": [
       "[{'name': 'John Smith',\n",
       "  'age': 10,\n",
       "  'on_vacation': False,\n",
       "  'test_scores': [66, 85, 39, 61, 16, 92, 33, 3, 87, 71]},\n",
       " {'name': 'Jane Doe',\n",
       "  'age': 10,\n",
       "  'on_vacation': False,\n",
       "  'test_scores': [4, 73, 75, 4, 50, 83, 8, 23, 42, 23]},\n",
       " {'name': 'Isaac Newton',\n",
       "  'age': 30,\n",
       "  'on_vacation': True,\n",
       "  'test_scores': [93, 96, 94, 92, 95, 90, 100, 98, 90, 94]}]"
      ]
     },
     "execution_count": 144,
     "metadata": {},
     "output_type": "execute_result"
    }
   ],
   "source": [
    "student_data"
   ]
  },
  {
   "cell_type": "code",
   "execution_count": 145,
   "id": "2b472f65",
   "metadata": {},
   "outputs": [
    {
     "data": {
      "text/plain": [
       "<list_iterator at 0x2a4d4d00>"
      ]
     },
     "execution_count": 145,
     "metadata": {},
     "output_type": "execute_result"
    }
   ],
   "source": [
    "student_data.__iter__()"
   ]
  },
  {
   "cell_type": "code",
   "execution_count": 146,
   "id": "cfaf5235",
   "metadata": {},
   "outputs": [
    {
     "data": {
      "text/plain": [
       "<list_iterator at 0x2a4d4790>"
      ]
     },
     "execution_count": 146,
     "metadata": {},
     "output_type": "execute_result"
    }
   ],
   "source": [
    "iter(student_data)"
   ]
  },
  {
   "cell_type": "code",
   "execution_count": 147,
   "id": "41c4fbbc",
   "metadata": {},
   "outputs": [],
   "source": [
    "student_data_iterator = iter(student_data)"
   ]
  },
  {
   "cell_type": "code",
   "execution_count": 148,
   "id": "2988e7e4",
   "metadata": {},
   "outputs": [
    {
     "data": {
      "text/plain": [
       "<list_iterator at 0x2a4c7f40>"
      ]
     },
     "execution_count": 148,
     "metadata": {},
     "output_type": "execute_result"
    }
   ],
   "source": [
    "student_data_iterator"
   ]
  },
  {
   "cell_type": "markdown",
   "id": "98b0c7b1",
   "metadata": {},
   "source": [
    "Student 1"
   ]
  },
  {
   "cell_type": "code",
   "execution_count": 149,
   "id": "7601eba6",
   "metadata": {},
   "outputs": [
    {
     "data": {
      "text/plain": [
       "{'name': 'John Smith',\n",
       " 'age': 10,\n",
       " 'on_vacation': False,\n",
       " 'test_scores': [66, 85, 39, 61, 16, 92, 33, 3, 87, 71]}"
      ]
     },
     "execution_count": 149,
     "metadata": {},
     "output_type": "execute_result"
    }
   ],
   "source": [
    "student_data_iterator.__next__()"
   ]
  },
  {
   "cell_type": "markdown",
   "id": "dcf0fa0b",
   "metadata": {},
   "source": [
    "Student 2"
   ]
  },
  {
   "cell_type": "code",
   "execution_count": 150,
   "id": "7e3245d9",
   "metadata": {
    "scrolled": true
   },
   "outputs": [
    {
     "data": {
      "text/plain": [
       "{'name': 'Jane Doe',\n",
       " 'age': 10,\n",
       " 'on_vacation': False,\n",
       " 'test_scores': [4, 73, 75, 4, 50, 83, 8, 23, 42, 23]}"
      ]
     },
     "execution_count": 150,
     "metadata": {},
     "output_type": "execute_result"
    }
   ],
   "source": [
    "next(student_data_iterator)"
   ]
  },
  {
   "cell_type": "markdown",
   "id": "08388ac7",
   "metadata": {},
   "source": [
    "Student 3"
   ]
  },
  {
   "cell_type": "code",
   "execution_count": 151,
   "id": "39679663",
   "metadata": {},
   "outputs": [
    {
     "data": {
      "text/plain": [
       "{'name': 'Isaac Newton',\n",
       " 'age': 30,\n",
       " 'on_vacation': True,\n",
       " 'test_scores': [93, 96, 94, 92, 95, 90, 100, 98, 90, 94]}"
      ]
     },
     "execution_count": 151,
     "metadata": {},
     "output_type": "execute_result"
    }
   ],
   "source": [
    "next(student_data_iterator)"
   ]
  },
  {
   "cell_type": "code",
   "execution_count": 152,
   "id": "983f886d",
   "metadata": {},
   "outputs": [
    {
     "ename": "StopIteration",
     "evalue": "",
     "output_type": "error",
     "traceback": [
      "\u001b[1;31m---------------------------------------------------------------------------\u001b[0m",
      "\u001b[1;31mStopIteration\u001b[0m                             Traceback (most recent call last)",
      "Input \u001b[1;32mIn [152]\u001b[0m, in \u001b[0;36m<module>\u001b[1;34m\u001b[0m\n\u001b[1;32m----> 1\u001b[0m \u001b[38;5;28;43mnext\u001b[39;49m\u001b[43m(\u001b[49m\u001b[43mstudent_data_iterator\u001b[49m\u001b[43m)\u001b[49m\n",
      "\u001b[1;31mStopIteration\u001b[0m: "
     ]
    }
   ],
   "source": [
    "next(student_data_iterator)"
   ]
  },
  {
   "cell_type": "code",
   "execution_count": 153,
   "id": "732e9f10",
   "metadata": {},
   "outputs": [
    {
     "name": "stdout",
     "output_type": "stream",
     "text": [
      "{'name': 'John Smith', 'age': 10, 'on_vacation': False, 'test_scores': [66, 85, 39, 61, 16, 92, 33, 3, 87, 71]}\n",
      "{'name': 'Jane Doe', 'age': 10, 'on_vacation': False, 'test_scores': [4, 73, 75, 4, 50, 83, 8, 23, 42, 23]}\n",
      "{'name': 'Isaac Newton', 'age': 30, 'on_vacation': True, 'test_scores': [93, 96, 94, 92, 95, 90, 100, 98, 90, 94]}\n"
     ]
    }
   ],
   "source": [
    "# summary of for loop\n",
    "\n",
    "student_data_iterator = iter(student_data)\n",
    "\n",
    "while True:\n",
    "    try:\n",
    "        item = next(student_data_iterator)\n",
    "        # This is now the same as the for block\n",
    "        print(item)\n",
    "    except StopIteration:\n",
    "        break"
   ]
  },
  {
   "cell_type": "markdown",
   "id": "4055e5eb",
   "metadata": {},
   "source": [
    "### Itertools fun "
   ]
  },
  {
   "cell_type": "code",
   "execution_count": 154,
   "id": "3c2ae5df",
   "metadata": {},
   "outputs": [
    {
     "data": {
      "text/plain": [
       "<itertools.chain at 0x2a4ef9d0>"
      ]
     },
     "execution_count": 154,
     "metadata": {},
     "output_type": "execute_result"
    }
   ],
   "source": [
    "itertools.chain([1, 2, 3], [4, 5, 6], [7, 8, 9]) # note lazy!"
   ]
  },
  {
   "cell_type": "code",
   "execution_count": 155,
   "id": "f21316a4",
   "metadata": {},
   "outputs": [
    {
     "name": "stdout",
     "output_type": "stream",
     "text": [
      "1\n",
      "2\n",
      "3\n",
      "4\n",
      "5\n",
      "6\n",
      "7\n",
      "8\n",
      "9\n"
     ]
    }
   ],
   "source": [
    "for city in itertools.chain([1, 2, 3], [4, 5, 6], [7, 8, 9]):\n",
    "    print(city)"
   ]
  },
  {
   "cell_type": "markdown",
   "id": "1fe4b228",
   "metadata": {},
   "source": [
    "### Chain from iterable"
   ]
  },
  {
   "cell_type": "code",
   "execution_count": 156,
   "id": "95920016",
   "metadata": {},
   "outputs": [
    {
     "name": "stdout",
     "output_type": "stream",
     "text": [
      "1\n",
      "2\n",
      "3\n",
      "4\n",
      "5\n",
      "6\n",
      "7\n",
      "8\n",
      "9\n"
     ]
    }
   ],
   "source": [
    "# iterable of iterables.\n",
    "#USED FOR list of lists\n",
    "\n",
    "for number in itertools.chain.from_iterable([[1, 2, 3], [4, 5, 6], [7, 8, 9]]):\n",
    "    print(number)"
   ]
  },
  {
   "cell_type": "markdown",
   "id": "6675ba8d",
   "metadata": {},
   "source": [
    "### Count"
   ]
  },
  {
   "cell_type": "code",
   "execution_count": 157,
   "id": "e05ad055",
   "metadata": {},
   "outputs": [],
   "source": [
    "# Similar to range but when you don't know how many you want.\n",
    "# itertools.count(3) -> 3, 4, 5, 6, ..."
   ]
  },
  {
   "cell_type": "code",
   "execution_count": 158,
   "id": "763e036d",
   "metadata": {},
   "outputs": [
    {
     "name": "stdout",
     "output_type": "stream",
     "text": [
      "n=1\n",
      "n=2\n",
      "n=3\n",
      "n=4\n",
      "n=5\n"
     ]
    }
   ],
   "source": [
    "for n in itertools.count(start=1, step=1):\n",
    "    print(f\"n={n}\")\n",
    "    if n == 5:\n",
    "        break"
   ]
  },
  {
   "cell_type": "code",
   "execution_count": 159,
   "id": "6802a376",
   "metadata": {},
   "outputs": [
    {
     "name": "stdout",
     "output_type": "stream",
     "text": [
      "n=1\n",
      "n=2\n",
      "n=3\n",
      "n=4\n",
      "n=5\n"
     ]
    }
   ],
   "source": [
    "#less code than the above\n",
    "n = 1\n",
    "while n < 6:\n",
    "    print(f\"n={n}\")\n",
    "    n = n+1"
   ]
  },
  {
   "cell_type": "markdown",
   "id": "f48772ed",
   "metadata": {},
   "source": [
    "## Combinations"
   ]
  },
  {
   "cell_type": "code",
   "execution_count": 160,
   "id": "25857a7f",
   "metadata": {},
   "outputs": [
    {
     "data": {
      "text/plain": [
       "[(1, 2), (1, 3), (1, 4), (2, 3), (2, 4), (3, 4)]"
      ]
     },
     "execution_count": 160,
     "metadata": {},
     "output_type": "execute_result"
    }
   ],
   "source": [
    "#Two element subsets\n",
    "list(itertools.combinations([1,2,3,4], 2))"
   ]
  },
  {
   "cell_type": "code",
   "execution_count": 161,
   "id": "07c6cebb",
   "metadata": {},
   "outputs": [
    {
     "data": {
      "text/plain": [
       "[(1, 1),\n",
       " (1, 2),\n",
       " (1, 3),\n",
       " (1, 4),\n",
       " (2, 2),\n",
       " (2, 3),\n",
       " (2, 4),\n",
       " (3, 3),\n",
       " (3, 4),\n",
       " (4, 4)]"
      ]
     },
     "execution_count": 161,
     "metadata": {},
     "output_type": "execute_result"
    }
   ],
   "source": [
    "#With replacement\n",
    "list(itertools.combinations_with_replacement([1,2,3,4], 2))"
   ]
  },
  {
   "cell_type": "markdown",
   "id": "fc6ea427",
   "metadata": {},
   "source": [
    "## Cycle"
   ]
  },
  {
   "cell_type": "markdown",
   "id": "8f1920b2",
   "metadata": {},
   "source": [
    "Acts like an infinite iterator"
   ]
  },
  {
   "cell_type": "code",
   "execution_count": 162,
   "id": "880f4ce2",
   "metadata": {},
   "outputs": [],
   "source": [
    "import random"
   ]
  },
  {
   "cell_type": "code",
   "execution_count": 163,
   "id": "92a3addd",
   "metadata": {},
   "outputs": [],
   "source": [
    "#Simulating the game\n",
    "def player_move(player):\n",
    "    if random.randint(1,4) == 1:\n",
    "        print(f\"Player {player} moved and won!\")\n",
    "        return True\n",
    "    else:\n",
    "        print(f\"Player {player} moved\")\n",
    "        return False"
   ]
  },
  {
   "cell_type": "code",
   "execution_count": 164,
   "id": "a8fbd333",
   "metadata": {},
   "outputs": [
    {
     "name": "stdout",
     "output_type": "stream",
     "text": [
      "Player A moved and won!\n"
     ]
    }
   ],
   "source": [
    "for player in itertools.cycle([\"A\", \"B\"]):\n",
    "    if player_move(player):\n",
    "        break"
   ]
  },
  {
   "cell_type": "markdown",
   "id": "67d58d34",
   "metadata": {},
   "source": [
    "## Groupby"
   ]
  },
  {
   "cell_type": "code",
   "execution_count": 165,
   "id": "116cccbe",
   "metadata": {},
   "outputs": [
    {
     "data": {
      "text/plain": [
       "[('M', <itertools._grouper at 0x6635be0>),\n",
       " ('I', <itertools._grouper at 0x6635a90>),\n",
       " ('S', <itertools._grouper at 0x6635fd0>),\n",
       " ('I', <itertools._grouper at 0x6635ca0>),\n",
       " ('S', <itertools._grouper at 0x6635c70>),\n",
       " ('I', <itertools._grouper at 0x66359a0>),\n",
       " ('P', <itertools._grouper at 0x6635a00>),\n",
       " ('I', <itertools._grouper at 0x6635190>)]"
      ]
     },
     "execution_count": 165,
     "metadata": {},
     "output_type": "execute_result"
    }
   ],
   "source": [
    "list(itertools.groupby('MISSISSIPPI'))"
   ]
  },
  {
   "cell_type": "code",
   "execution_count": 166,
   "id": "c07279a8",
   "metadata": {},
   "outputs": [
    {
     "name": "stdout",
     "output_type": "stream",
     "text": [
      "A group of M with ['M']\n",
      "A group of I with ['I']\n",
      "A group of S with ['S', 'S']\n",
      "A group of I with ['I']\n",
      "A group of S with ['S', 'S']\n",
      "A group of I with ['I']\n",
      "A group of P with ['P', 'P']\n",
      "A group of I with ['I']\n"
     ]
    }
   ],
   "source": [
    "for key, group in itertools.groupby('MISSISSIPPI'):\n",
    "    print(f\"A group of {key} with {list(group)}\")"
   ]
  },
  {
   "cell_type": "markdown",
   "id": "2fb59585",
   "metadata": {},
   "source": [
    "## islice"
   ]
  },
  {
   "cell_type": "code",
   "execution_count": 167,
   "id": "0d6f501e",
   "metadata": {},
   "outputs": [
    {
     "data": {
      "text/plain": [
       "[2, 4]"
      ]
     },
     "execution_count": 167,
     "metadata": {},
     "output_type": "execute_result"
    }
   ],
   "source": [
    "#[list], starting point, ending point, step \n",
    "list(itertools.islice([1,2,3,4,5], 1, None, 2))"
   ]
  },
  {
   "cell_type": "code",
   "execution_count": 168,
   "id": "4d3e0fc7",
   "metadata": {},
   "outputs": [],
   "source": [
    "long_list = list(range(1_000_000))"
   ]
  },
  {
   "cell_type": "code",
   "execution_count": 169,
   "id": "eae62bbf",
   "metadata": {},
   "outputs": [],
   "source": [
    "import sys\n",
    "\n",
    "def convert_bytes(size):\n",
    "    for x in ['bytes', 'KB', 'MB', 'GB', 'TB']:\n",
    "        if size < 1024.0:\n",
    "            return \"%3.1f %s\" % (size, x)\n",
    "        size /= 1024.0\n",
    "        \n",
    "    return size"
   ]
  },
  {
   "cell_type": "code",
   "execution_count": 170,
   "id": "8adcef66",
   "metadata": {},
   "outputs": [
    {
     "data": {
      "text/plain": [
       "'7.6 MB'"
      ]
     },
     "execution_count": 170,
     "metadata": {},
     "output_type": "execute_result"
    }
   ],
   "source": [
    "convert_bytes(sys.getsizeof(long_list))"
   ]
  },
  {
   "cell_type": "code",
   "execution_count": 171,
   "id": "09c00d97",
   "metadata": {},
   "outputs": [
    {
     "data": {
      "text/plain": [
       "'3.8 MB'"
      ]
     },
     "execution_count": 171,
     "metadata": {},
     "output_type": "execute_result"
    }
   ],
   "source": [
    "# This displays the size of a new list generated by \n",
    "# starting in the begining\n",
    "# ending in the end\n",
    "# step=2\n",
    "\n",
    "convert_bytes(sys.getsizeof(long_list[::2]))"
   ]
  },
  {
   "cell_type": "code",
   "execution_count": 172,
   "id": "4869eb52",
   "metadata": {},
   "outputs": [
    {
     "data": {
      "text/plain": [
       "'72.0 bytes'"
      ]
     },
     "execution_count": 172,
     "metadata": {},
     "output_type": "execute_result"
    }
   ],
   "source": [
    "#Same as above but very memory efficient\n",
    "convert_bytes(sys.getsizeof(itertools.islice(long_list, 0, None, 2)))"
   ]
  },
  {
   "cell_type": "markdown",
   "id": "e5d5e5de",
   "metadata": {},
   "source": [
    "## Same list obtained but one is more memory efficient"
   ]
  },
  {
   "cell_type": "code",
   "execution_count": 173,
   "id": "5ae7bbf4",
   "metadata": {},
   "outputs": [
    {
     "data": {
      "text/plain": [
       "[0,\n",
       " 2,\n",
       " 4,\n",
       " 6,\n",
       " 8,\n",
       " 10,\n",
       " 12,\n",
       " 14,\n",
       " 16,\n",
       " 18,\n",
       " 20,\n",
       " 22,\n",
       " 24,\n",
       " 26,\n",
       " 28,\n",
       " 30,\n",
       " 32,\n",
       " 34,\n",
       " 36,\n",
       " 38,\n",
       " 40,\n",
       " 42,\n",
       " 44,\n",
       " 46,\n",
       " 48,\n",
       " 50,\n",
       " 52,\n",
       " 54,\n",
       " 56,\n",
       " 58,\n",
       " 60,\n",
       " 62,\n",
       " 64,\n",
       " 66,\n",
       " 68,\n",
       " 70,\n",
       " 72,\n",
       " 74,\n",
       " 76,\n",
       " 78,\n",
       " 80,\n",
       " 82,\n",
       " 84,\n",
       " 86,\n",
       " 88,\n",
       " 90,\n",
       " 92,\n",
       " 94,\n",
       " 96,\n",
       " 98,\n",
       " 100,\n",
       " 102,\n",
       " 104,\n",
       " 106,\n",
       " 108,\n",
       " 110,\n",
       " 112,\n",
       " 114,\n",
       " 116,\n",
       " 118,\n",
       " 120,\n",
       " 122,\n",
       " 124,\n",
       " 126,\n",
       " 128,\n",
       " 130,\n",
       " 132,\n",
       " 134,\n",
       " 136,\n",
       " 138,\n",
       " 140,\n",
       " 142,\n",
       " 144,\n",
       " 146,\n",
       " 148,\n",
       " 150,\n",
       " 152,\n",
       " 154,\n",
       " 156,\n",
       " 158,\n",
       " 160,\n",
       " 162,\n",
       " 164,\n",
       " 166,\n",
       " 168,\n",
       " 170,\n",
       " 172,\n",
       " 174,\n",
       " 176,\n",
       " 178,\n",
       " 180,\n",
       " 182,\n",
       " 184,\n",
       " 186,\n",
       " 188,\n",
       " 190,\n",
       " 192,\n",
       " 194,\n",
       " 196,\n",
       " 198,\n",
       " 200,\n",
       " 202,\n",
       " 204,\n",
       " 206,\n",
       " 208,\n",
       " 210,\n",
       " 212,\n",
       " 214,\n",
       " 216,\n",
       " 218,\n",
       " 220,\n",
       " 222,\n",
       " 224,\n",
       " 226,\n",
       " 228,\n",
       " 230,\n",
       " 232,\n",
       " 234,\n",
       " 236,\n",
       " 238,\n",
       " 240,\n",
       " 242,\n",
       " 244,\n",
       " 246,\n",
       " 248,\n",
       " 250,\n",
       " 252,\n",
       " 254,\n",
       " 256,\n",
       " 258,\n",
       " 260,\n",
       " 262,\n",
       " 264,\n",
       " 266,\n",
       " 268,\n",
       " 270,\n",
       " 272,\n",
       " 274,\n",
       " 276,\n",
       " 278,\n",
       " 280,\n",
       " 282,\n",
       " 284,\n",
       " 286,\n",
       " 288,\n",
       " 290,\n",
       " 292,\n",
       " 294,\n",
       " 296,\n",
       " 298,\n",
       " 300,\n",
       " 302,\n",
       " 304,\n",
       " 306,\n",
       " 308,\n",
       " 310,\n",
       " 312,\n",
       " 314,\n",
       " 316,\n",
       " 318,\n",
       " 320,\n",
       " 322,\n",
       " 324,\n",
       " 326,\n",
       " 328,\n",
       " 330,\n",
       " 332,\n",
       " 334,\n",
       " 336,\n",
       " 338,\n",
       " 340,\n",
       " 342,\n",
       " 344,\n",
       " 346,\n",
       " 348,\n",
       " 350,\n",
       " 352,\n",
       " 354,\n",
       " 356,\n",
       " 358,\n",
       " 360,\n",
       " 362,\n",
       " 364,\n",
       " 366,\n",
       " 368,\n",
       " 370,\n",
       " 372,\n",
       " 374,\n",
       " 376,\n",
       " 378,\n",
       " 380,\n",
       " 382,\n",
       " 384,\n",
       " 386,\n",
       " 388,\n",
       " 390,\n",
       " 392,\n",
       " 394,\n",
       " 396,\n",
       " 398,\n",
       " 400,\n",
       " 402,\n",
       " 404,\n",
       " 406,\n",
       " 408,\n",
       " 410,\n",
       " 412,\n",
       " 414,\n",
       " 416,\n",
       " 418,\n",
       " 420,\n",
       " 422,\n",
       " 424,\n",
       " 426,\n",
       " 428,\n",
       " 430,\n",
       " 432,\n",
       " 434,\n",
       " 436,\n",
       " 438,\n",
       " 440,\n",
       " 442,\n",
       " 444,\n",
       " 446,\n",
       " 448,\n",
       " 450,\n",
       " 452,\n",
       " 454,\n",
       " 456,\n",
       " 458,\n",
       " 460,\n",
       " 462,\n",
       " 464,\n",
       " 466,\n",
       " 468,\n",
       " 470,\n",
       " 472,\n",
       " 474,\n",
       " 476,\n",
       " 478,\n",
       " 480,\n",
       " 482,\n",
       " 484,\n",
       " 486,\n",
       " 488,\n",
       " 490,\n",
       " 492,\n",
       " 494,\n",
       " 496,\n",
       " 498,\n",
       " 500,\n",
       " 502,\n",
       " 504,\n",
       " 506,\n",
       " 508,\n",
       " 510,\n",
       " 512,\n",
       " 514,\n",
       " 516,\n",
       " 518,\n",
       " 520,\n",
       " 522,\n",
       " 524,\n",
       " 526,\n",
       " 528,\n",
       " 530,\n",
       " 532,\n",
       " 534,\n",
       " 536,\n",
       " 538,\n",
       " 540,\n",
       " 542,\n",
       " 544,\n",
       " 546,\n",
       " 548,\n",
       " 550,\n",
       " 552,\n",
       " 554,\n",
       " 556,\n",
       " 558,\n",
       " 560,\n",
       " 562,\n",
       " 564,\n",
       " 566,\n",
       " 568,\n",
       " 570,\n",
       " 572,\n",
       " 574,\n",
       " 576,\n",
       " 578,\n",
       " 580,\n",
       " 582,\n",
       " 584,\n",
       " 586,\n",
       " 588,\n",
       " 590,\n",
       " 592,\n",
       " 594,\n",
       " 596,\n",
       " 598,\n",
       " 600,\n",
       " 602,\n",
       " 604,\n",
       " 606,\n",
       " 608,\n",
       " 610,\n",
       " 612,\n",
       " 614,\n",
       " 616,\n",
       " 618,\n",
       " 620,\n",
       " 622,\n",
       " 624,\n",
       " 626,\n",
       " 628,\n",
       " 630,\n",
       " 632,\n",
       " 634,\n",
       " 636,\n",
       " 638,\n",
       " 640,\n",
       " 642,\n",
       " 644,\n",
       " 646,\n",
       " 648,\n",
       " 650,\n",
       " 652,\n",
       " 654,\n",
       " 656,\n",
       " 658,\n",
       " 660,\n",
       " 662,\n",
       " 664,\n",
       " 666,\n",
       " 668,\n",
       " 670,\n",
       " 672,\n",
       " 674,\n",
       " 676,\n",
       " 678,\n",
       " 680,\n",
       " 682,\n",
       " 684,\n",
       " 686,\n",
       " 688,\n",
       " 690,\n",
       " 692,\n",
       " 694,\n",
       " 696,\n",
       " 698,\n",
       " 700,\n",
       " 702,\n",
       " 704,\n",
       " 706,\n",
       " 708,\n",
       " 710,\n",
       " 712,\n",
       " 714,\n",
       " 716,\n",
       " 718,\n",
       " 720,\n",
       " 722,\n",
       " 724,\n",
       " 726,\n",
       " 728,\n",
       " 730,\n",
       " 732,\n",
       " 734,\n",
       " 736,\n",
       " 738,\n",
       " 740,\n",
       " 742,\n",
       " 744,\n",
       " 746,\n",
       " 748,\n",
       " 750,\n",
       " 752,\n",
       " 754,\n",
       " 756,\n",
       " 758,\n",
       " 760,\n",
       " 762,\n",
       " 764,\n",
       " 766,\n",
       " 768,\n",
       " 770,\n",
       " 772,\n",
       " 774,\n",
       " 776,\n",
       " 778,\n",
       " 780,\n",
       " 782,\n",
       " 784,\n",
       " 786,\n",
       " 788,\n",
       " 790,\n",
       " 792,\n",
       " 794,\n",
       " 796,\n",
       " 798,\n",
       " 800,\n",
       " 802,\n",
       " 804,\n",
       " 806,\n",
       " 808,\n",
       " 810,\n",
       " 812,\n",
       " 814,\n",
       " 816,\n",
       " 818,\n",
       " 820,\n",
       " 822,\n",
       " 824,\n",
       " 826,\n",
       " 828,\n",
       " 830,\n",
       " 832,\n",
       " 834,\n",
       " 836,\n",
       " 838,\n",
       " 840,\n",
       " 842,\n",
       " 844,\n",
       " 846,\n",
       " 848,\n",
       " 850,\n",
       " 852,\n",
       " 854,\n",
       " 856,\n",
       " 858,\n",
       " 860,\n",
       " 862,\n",
       " 864,\n",
       " 866,\n",
       " 868,\n",
       " 870,\n",
       " 872,\n",
       " 874,\n",
       " 876,\n",
       " 878,\n",
       " 880,\n",
       " 882,\n",
       " 884,\n",
       " 886,\n",
       " 888,\n",
       " 890,\n",
       " 892,\n",
       " 894,\n",
       " 896,\n",
       " 898,\n",
       " 900,\n",
       " 902,\n",
       " 904,\n",
       " 906,\n",
       " 908,\n",
       " 910,\n",
       " 912,\n",
       " 914,\n",
       " 916,\n",
       " 918,\n",
       " 920,\n",
       " 922,\n",
       " 924,\n",
       " 926,\n",
       " 928,\n",
       " 930,\n",
       " 932,\n",
       " 934,\n",
       " 936,\n",
       " 938,\n",
       " 940,\n",
       " 942,\n",
       " 944,\n",
       " 946,\n",
       " 948,\n",
       " 950,\n",
       " 952,\n",
       " 954,\n",
       " 956,\n",
       " 958,\n",
       " 960,\n",
       " 962,\n",
       " 964,\n",
       " 966,\n",
       " 968,\n",
       " 970,\n",
       " 972,\n",
       " 974,\n",
       " 976,\n",
       " 978,\n",
       " 980,\n",
       " 982,\n",
       " 984,\n",
       " 986,\n",
       " 988,\n",
       " 990,\n",
       " 992,\n",
       " 994,\n",
       " 996,\n",
       " 998,\n",
       " 1000,\n",
       " 1002,\n",
       " 1004,\n",
       " 1006,\n",
       " 1008,\n",
       " 1010,\n",
       " 1012,\n",
       " 1014,\n",
       " 1016,\n",
       " 1018,\n",
       " 1020,\n",
       " 1022,\n",
       " 1024,\n",
       " 1026,\n",
       " 1028,\n",
       " 1030,\n",
       " 1032,\n",
       " 1034,\n",
       " 1036,\n",
       " 1038,\n",
       " 1040,\n",
       " 1042,\n",
       " 1044,\n",
       " 1046,\n",
       " 1048,\n",
       " 1050,\n",
       " 1052,\n",
       " 1054,\n",
       " 1056,\n",
       " 1058,\n",
       " 1060,\n",
       " 1062,\n",
       " 1064,\n",
       " 1066,\n",
       " 1068,\n",
       " 1070,\n",
       " 1072,\n",
       " 1074,\n",
       " 1076,\n",
       " 1078,\n",
       " 1080,\n",
       " 1082,\n",
       " 1084,\n",
       " 1086,\n",
       " 1088,\n",
       " 1090,\n",
       " 1092,\n",
       " 1094,\n",
       " 1096,\n",
       " 1098,\n",
       " 1100,\n",
       " 1102,\n",
       " 1104,\n",
       " 1106,\n",
       " 1108,\n",
       " 1110,\n",
       " 1112,\n",
       " 1114,\n",
       " 1116,\n",
       " 1118,\n",
       " 1120,\n",
       " 1122,\n",
       " 1124,\n",
       " 1126,\n",
       " 1128,\n",
       " 1130,\n",
       " 1132,\n",
       " 1134,\n",
       " 1136,\n",
       " 1138,\n",
       " 1140,\n",
       " 1142,\n",
       " 1144,\n",
       " 1146,\n",
       " 1148,\n",
       " 1150,\n",
       " 1152,\n",
       " 1154,\n",
       " 1156,\n",
       " 1158,\n",
       " 1160,\n",
       " 1162,\n",
       " 1164,\n",
       " 1166,\n",
       " 1168,\n",
       " 1170,\n",
       " 1172,\n",
       " 1174,\n",
       " 1176,\n",
       " 1178,\n",
       " 1180,\n",
       " 1182,\n",
       " 1184,\n",
       " 1186,\n",
       " 1188,\n",
       " 1190,\n",
       " 1192,\n",
       " 1194,\n",
       " 1196,\n",
       " 1198,\n",
       " 1200,\n",
       " 1202,\n",
       " 1204,\n",
       " 1206,\n",
       " 1208,\n",
       " 1210,\n",
       " 1212,\n",
       " 1214,\n",
       " 1216,\n",
       " 1218,\n",
       " 1220,\n",
       " 1222,\n",
       " 1224,\n",
       " 1226,\n",
       " 1228,\n",
       " 1230,\n",
       " 1232,\n",
       " 1234,\n",
       " 1236,\n",
       " 1238,\n",
       " 1240,\n",
       " 1242,\n",
       " 1244,\n",
       " 1246,\n",
       " 1248,\n",
       " 1250,\n",
       " 1252,\n",
       " 1254,\n",
       " 1256,\n",
       " 1258,\n",
       " 1260,\n",
       " 1262,\n",
       " 1264,\n",
       " 1266,\n",
       " 1268,\n",
       " 1270,\n",
       " 1272,\n",
       " 1274,\n",
       " 1276,\n",
       " 1278,\n",
       " 1280,\n",
       " 1282,\n",
       " 1284,\n",
       " 1286,\n",
       " 1288,\n",
       " 1290,\n",
       " 1292,\n",
       " 1294,\n",
       " 1296,\n",
       " 1298,\n",
       " 1300,\n",
       " 1302,\n",
       " 1304,\n",
       " 1306,\n",
       " 1308,\n",
       " 1310,\n",
       " 1312,\n",
       " 1314,\n",
       " 1316,\n",
       " 1318,\n",
       " 1320,\n",
       " 1322,\n",
       " 1324,\n",
       " 1326,\n",
       " 1328,\n",
       " 1330,\n",
       " 1332,\n",
       " 1334,\n",
       " 1336,\n",
       " 1338,\n",
       " 1340,\n",
       " 1342,\n",
       " 1344,\n",
       " 1346,\n",
       " 1348,\n",
       " 1350,\n",
       " 1352,\n",
       " 1354,\n",
       " 1356,\n",
       " 1358,\n",
       " 1360,\n",
       " 1362,\n",
       " 1364,\n",
       " 1366,\n",
       " 1368,\n",
       " 1370,\n",
       " 1372,\n",
       " 1374,\n",
       " 1376,\n",
       " 1378,\n",
       " 1380,\n",
       " 1382,\n",
       " 1384,\n",
       " 1386,\n",
       " 1388,\n",
       " 1390,\n",
       " 1392,\n",
       " 1394,\n",
       " 1396,\n",
       " 1398,\n",
       " 1400,\n",
       " 1402,\n",
       " 1404,\n",
       " 1406,\n",
       " 1408,\n",
       " 1410,\n",
       " 1412,\n",
       " 1414,\n",
       " 1416,\n",
       " 1418,\n",
       " 1420,\n",
       " 1422,\n",
       " 1424,\n",
       " 1426,\n",
       " 1428,\n",
       " 1430,\n",
       " 1432,\n",
       " 1434,\n",
       " 1436,\n",
       " 1438,\n",
       " 1440,\n",
       " 1442,\n",
       " 1444,\n",
       " 1446,\n",
       " 1448,\n",
       " 1450,\n",
       " 1452,\n",
       " 1454,\n",
       " 1456,\n",
       " 1458,\n",
       " 1460,\n",
       " 1462,\n",
       " 1464,\n",
       " 1466,\n",
       " 1468,\n",
       " 1470,\n",
       " 1472,\n",
       " 1474,\n",
       " 1476,\n",
       " 1478,\n",
       " 1480,\n",
       " 1482,\n",
       " 1484,\n",
       " 1486,\n",
       " 1488,\n",
       " 1490,\n",
       " 1492,\n",
       " 1494,\n",
       " 1496,\n",
       " 1498,\n",
       " 1500,\n",
       " 1502,\n",
       " 1504,\n",
       " 1506,\n",
       " 1508,\n",
       " 1510,\n",
       " 1512,\n",
       " 1514,\n",
       " 1516,\n",
       " 1518,\n",
       " 1520,\n",
       " 1522,\n",
       " 1524,\n",
       " 1526,\n",
       " 1528,\n",
       " 1530,\n",
       " 1532,\n",
       " 1534,\n",
       " 1536,\n",
       " 1538,\n",
       " 1540,\n",
       " 1542,\n",
       " 1544,\n",
       " 1546,\n",
       " 1548,\n",
       " 1550,\n",
       " 1552,\n",
       " 1554,\n",
       " 1556,\n",
       " 1558,\n",
       " 1560,\n",
       " 1562,\n",
       " 1564,\n",
       " 1566,\n",
       " 1568,\n",
       " 1570,\n",
       " 1572,\n",
       " 1574,\n",
       " 1576,\n",
       " 1578,\n",
       " 1580,\n",
       " 1582,\n",
       " 1584,\n",
       " 1586,\n",
       " 1588,\n",
       " 1590,\n",
       " 1592,\n",
       " 1594,\n",
       " 1596,\n",
       " 1598,\n",
       " 1600,\n",
       " 1602,\n",
       " 1604,\n",
       " 1606,\n",
       " 1608,\n",
       " 1610,\n",
       " 1612,\n",
       " 1614,\n",
       " 1616,\n",
       " 1618,\n",
       " 1620,\n",
       " 1622,\n",
       " 1624,\n",
       " 1626,\n",
       " 1628,\n",
       " 1630,\n",
       " 1632,\n",
       " 1634,\n",
       " 1636,\n",
       " 1638,\n",
       " 1640,\n",
       " 1642,\n",
       " 1644,\n",
       " 1646,\n",
       " 1648,\n",
       " 1650,\n",
       " 1652,\n",
       " 1654,\n",
       " 1656,\n",
       " 1658,\n",
       " 1660,\n",
       " 1662,\n",
       " 1664,\n",
       " 1666,\n",
       " 1668,\n",
       " 1670,\n",
       " 1672,\n",
       " 1674,\n",
       " 1676,\n",
       " 1678,\n",
       " 1680,\n",
       " 1682,\n",
       " 1684,\n",
       " 1686,\n",
       " 1688,\n",
       " 1690,\n",
       " 1692,\n",
       " 1694,\n",
       " 1696,\n",
       " 1698,\n",
       " 1700,\n",
       " 1702,\n",
       " 1704,\n",
       " 1706,\n",
       " 1708,\n",
       " 1710,\n",
       " 1712,\n",
       " 1714,\n",
       " 1716,\n",
       " 1718,\n",
       " 1720,\n",
       " 1722,\n",
       " 1724,\n",
       " 1726,\n",
       " 1728,\n",
       " 1730,\n",
       " 1732,\n",
       " 1734,\n",
       " 1736,\n",
       " 1738,\n",
       " 1740,\n",
       " 1742,\n",
       " 1744,\n",
       " 1746,\n",
       " 1748,\n",
       " 1750,\n",
       " 1752,\n",
       " 1754,\n",
       " 1756,\n",
       " 1758,\n",
       " 1760,\n",
       " 1762,\n",
       " 1764,\n",
       " 1766,\n",
       " 1768,\n",
       " 1770,\n",
       " 1772,\n",
       " 1774,\n",
       " 1776,\n",
       " 1778,\n",
       " 1780,\n",
       " 1782,\n",
       " 1784,\n",
       " 1786,\n",
       " 1788,\n",
       " 1790,\n",
       " 1792,\n",
       " 1794,\n",
       " 1796,\n",
       " 1798,\n",
       " 1800,\n",
       " 1802,\n",
       " 1804,\n",
       " 1806,\n",
       " 1808,\n",
       " 1810,\n",
       " 1812,\n",
       " 1814,\n",
       " 1816,\n",
       " 1818,\n",
       " 1820,\n",
       " 1822,\n",
       " 1824,\n",
       " 1826,\n",
       " 1828,\n",
       " 1830,\n",
       " 1832,\n",
       " 1834,\n",
       " 1836,\n",
       " 1838,\n",
       " 1840,\n",
       " 1842,\n",
       " 1844,\n",
       " 1846,\n",
       " 1848,\n",
       " 1850,\n",
       " 1852,\n",
       " 1854,\n",
       " 1856,\n",
       " 1858,\n",
       " 1860,\n",
       " 1862,\n",
       " 1864,\n",
       " 1866,\n",
       " 1868,\n",
       " 1870,\n",
       " 1872,\n",
       " 1874,\n",
       " 1876,\n",
       " 1878,\n",
       " 1880,\n",
       " 1882,\n",
       " 1884,\n",
       " 1886,\n",
       " 1888,\n",
       " 1890,\n",
       " 1892,\n",
       " 1894,\n",
       " 1896,\n",
       " 1898,\n",
       " 1900,\n",
       " 1902,\n",
       " 1904,\n",
       " 1906,\n",
       " 1908,\n",
       " 1910,\n",
       " 1912,\n",
       " 1914,\n",
       " 1916,\n",
       " 1918,\n",
       " 1920,\n",
       " 1922,\n",
       " 1924,\n",
       " 1926,\n",
       " 1928,\n",
       " 1930,\n",
       " 1932,\n",
       " 1934,\n",
       " 1936,\n",
       " 1938,\n",
       " 1940,\n",
       " 1942,\n",
       " 1944,\n",
       " 1946,\n",
       " 1948,\n",
       " 1950,\n",
       " 1952,\n",
       " 1954,\n",
       " 1956,\n",
       " 1958,\n",
       " 1960,\n",
       " 1962,\n",
       " 1964,\n",
       " 1966,\n",
       " 1968,\n",
       " 1970,\n",
       " 1972,\n",
       " 1974,\n",
       " 1976,\n",
       " 1978,\n",
       " 1980,\n",
       " 1982,\n",
       " 1984,\n",
       " 1986,\n",
       " 1988,\n",
       " 1990,\n",
       " 1992,\n",
       " 1994,\n",
       " 1996,\n",
       " 1998,\n",
       " ...]"
      ]
     },
     "execution_count": 173,
     "metadata": {},
     "output_type": "execute_result"
    }
   ],
   "source": [
    "long_list[::2]"
   ]
  },
  {
   "cell_type": "code",
   "execution_count": 174,
   "id": "e4964cb1",
   "metadata": {},
   "outputs": [
    {
     "data": {
      "text/plain": [
       "[0,\n",
       " 2,\n",
       " 4,\n",
       " 6,\n",
       " 8,\n",
       " 10,\n",
       " 12,\n",
       " 14,\n",
       " 16,\n",
       " 18,\n",
       " 20,\n",
       " 22,\n",
       " 24,\n",
       " 26,\n",
       " 28,\n",
       " 30,\n",
       " 32,\n",
       " 34,\n",
       " 36,\n",
       " 38,\n",
       " 40,\n",
       " 42,\n",
       " 44,\n",
       " 46,\n",
       " 48,\n",
       " 50,\n",
       " 52,\n",
       " 54,\n",
       " 56,\n",
       " 58,\n",
       " 60,\n",
       " 62,\n",
       " 64,\n",
       " 66,\n",
       " 68,\n",
       " 70,\n",
       " 72,\n",
       " 74,\n",
       " 76,\n",
       " 78,\n",
       " 80,\n",
       " 82,\n",
       " 84,\n",
       " 86,\n",
       " 88,\n",
       " 90,\n",
       " 92,\n",
       " 94,\n",
       " 96,\n",
       " 98,\n",
       " 100,\n",
       " 102,\n",
       " 104,\n",
       " 106,\n",
       " 108,\n",
       " 110,\n",
       " 112,\n",
       " 114,\n",
       " 116,\n",
       " 118,\n",
       " 120,\n",
       " 122,\n",
       " 124,\n",
       " 126,\n",
       " 128,\n",
       " 130,\n",
       " 132,\n",
       " 134,\n",
       " 136,\n",
       " 138,\n",
       " 140,\n",
       " 142,\n",
       " 144,\n",
       " 146,\n",
       " 148,\n",
       " 150,\n",
       " 152,\n",
       " 154,\n",
       " 156,\n",
       " 158,\n",
       " 160,\n",
       " 162,\n",
       " 164,\n",
       " 166,\n",
       " 168,\n",
       " 170,\n",
       " 172,\n",
       " 174,\n",
       " 176,\n",
       " 178,\n",
       " 180,\n",
       " 182,\n",
       " 184,\n",
       " 186,\n",
       " 188,\n",
       " 190,\n",
       " 192,\n",
       " 194,\n",
       " 196,\n",
       " 198,\n",
       " 200,\n",
       " 202,\n",
       " 204,\n",
       " 206,\n",
       " 208,\n",
       " 210,\n",
       " 212,\n",
       " 214,\n",
       " 216,\n",
       " 218,\n",
       " 220,\n",
       " 222,\n",
       " 224,\n",
       " 226,\n",
       " 228,\n",
       " 230,\n",
       " 232,\n",
       " 234,\n",
       " 236,\n",
       " 238,\n",
       " 240,\n",
       " 242,\n",
       " 244,\n",
       " 246,\n",
       " 248,\n",
       " 250,\n",
       " 252,\n",
       " 254,\n",
       " 256,\n",
       " 258,\n",
       " 260,\n",
       " 262,\n",
       " 264,\n",
       " 266,\n",
       " 268,\n",
       " 270,\n",
       " 272,\n",
       " 274,\n",
       " 276,\n",
       " 278,\n",
       " 280,\n",
       " 282,\n",
       " 284,\n",
       " 286,\n",
       " 288,\n",
       " 290,\n",
       " 292,\n",
       " 294,\n",
       " 296,\n",
       " 298,\n",
       " 300,\n",
       " 302,\n",
       " 304,\n",
       " 306,\n",
       " 308,\n",
       " 310,\n",
       " 312,\n",
       " 314,\n",
       " 316,\n",
       " 318,\n",
       " 320,\n",
       " 322,\n",
       " 324,\n",
       " 326,\n",
       " 328,\n",
       " 330,\n",
       " 332,\n",
       " 334,\n",
       " 336,\n",
       " 338,\n",
       " 340,\n",
       " 342,\n",
       " 344,\n",
       " 346,\n",
       " 348,\n",
       " 350,\n",
       " 352,\n",
       " 354,\n",
       " 356,\n",
       " 358,\n",
       " 360,\n",
       " 362,\n",
       " 364,\n",
       " 366,\n",
       " 368,\n",
       " 370,\n",
       " 372,\n",
       " 374,\n",
       " 376,\n",
       " 378,\n",
       " 380,\n",
       " 382,\n",
       " 384,\n",
       " 386,\n",
       " 388,\n",
       " 390,\n",
       " 392,\n",
       " 394,\n",
       " 396,\n",
       " 398,\n",
       " 400,\n",
       " 402,\n",
       " 404,\n",
       " 406,\n",
       " 408,\n",
       " 410,\n",
       " 412,\n",
       " 414,\n",
       " 416,\n",
       " 418,\n",
       " 420,\n",
       " 422,\n",
       " 424,\n",
       " 426,\n",
       " 428,\n",
       " 430,\n",
       " 432,\n",
       " 434,\n",
       " 436,\n",
       " 438,\n",
       " 440,\n",
       " 442,\n",
       " 444,\n",
       " 446,\n",
       " 448,\n",
       " 450,\n",
       " 452,\n",
       " 454,\n",
       " 456,\n",
       " 458,\n",
       " 460,\n",
       " 462,\n",
       " 464,\n",
       " 466,\n",
       " 468,\n",
       " 470,\n",
       " 472,\n",
       " 474,\n",
       " 476,\n",
       " 478,\n",
       " 480,\n",
       " 482,\n",
       " 484,\n",
       " 486,\n",
       " 488,\n",
       " 490,\n",
       " 492,\n",
       " 494,\n",
       " 496,\n",
       " 498,\n",
       " 500,\n",
       " 502,\n",
       " 504,\n",
       " 506,\n",
       " 508,\n",
       " 510,\n",
       " 512,\n",
       " 514,\n",
       " 516,\n",
       " 518,\n",
       " 520,\n",
       " 522,\n",
       " 524,\n",
       " 526,\n",
       " 528,\n",
       " 530,\n",
       " 532,\n",
       " 534,\n",
       " 536,\n",
       " 538,\n",
       " 540,\n",
       " 542,\n",
       " 544,\n",
       " 546,\n",
       " 548,\n",
       " 550,\n",
       " 552,\n",
       " 554,\n",
       " 556,\n",
       " 558,\n",
       " 560,\n",
       " 562,\n",
       " 564,\n",
       " 566,\n",
       " 568,\n",
       " 570,\n",
       " 572,\n",
       " 574,\n",
       " 576,\n",
       " 578,\n",
       " 580,\n",
       " 582,\n",
       " 584,\n",
       " 586,\n",
       " 588,\n",
       " 590,\n",
       " 592,\n",
       " 594,\n",
       " 596,\n",
       " 598,\n",
       " 600,\n",
       " 602,\n",
       " 604,\n",
       " 606,\n",
       " 608,\n",
       " 610,\n",
       " 612,\n",
       " 614,\n",
       " 616,\n",
       " 618,\n",
       " 620,\n",
       " 622,\n",
       " 624,\n",
       " 626,\n",
       " 628,\n",
       " 630,\n",
       " 632,\n",
       " 634,\n",
       " 636,\n",
       " 638,\n",
       " 640,\n",
       " 642,\n",
       " 644,\n",
       " 646,\n",
       " 648,\n",
       " 650,\n",
       " 652,\n",
       " 654,\n",
       " 656,\n",
       " 658,\n",
       " 660,\n",
       " 662,\n",
       " 664,\n",
       " 666,\n",
       " 668,\n",
       " 670,\n",
       " 672,\n",
       " 674,\n",
       " 676,\n",
       " 678,\n",
       " 680,\n",
       " 682,\n",
       " 684,\n",
       " 686,\n",
       " 688,\n",
       " 690,\n",
       " 692,\n",
       " 694,\n",
       " 696,\n",
       " 698,\n",
       " 700,\n",
       " 702,\n",
       " 704,\n",
       " 706,\n",
       " 708,\n",
       " 710,\n",
       " 712,\n",
       " 714,\n",
       " 716,\n",
       " 718,\n",
       " 720,\n",
       " 722,\n",
       " 724,\n",
       " 726,\n",
       " 728,\n",
       " 730,\n",
       " 732,\n",
       " 734,\n",
       " 736,\n",
       " 738,\n",
       " 740,\n",
       " 742,\n",
       " 744,\n",
       " 746,\n",
       " 748,\n",
       " 750,\n",
       " 752,\n",
       " 754,\n",
       " 756,\n",
       " 758,\n",
       " 760,\n",
       " 762,\n",
       " 764,\n",
       " 766,\n",
       " 768,\n",
       " 770,\n",
       " 772,\n",
       " 774,\n",
       " 776,\n",
       " 778,\n",
       " 780,\n",
       " 782,\n",
       " 784,\n",
       " 786,\n",
       " 788,\n",
       " 790,\n",
       " 792,\n",
       " 794,\n",
       " 796,\n",
       " 798,\n",
       " 800,\n",
       " 802,\n",
       " 804,\n",
       " 806,\n",
       " 808,\n",
       " 810,\n",
       " 812,\n",
       " 814,\n",
       " 816,\n",
       " 818,\n",
       " 820,\n",
       " 822,\n",
       " 824,\n",
       " 826,\n",
       " 828,\n",
       " 830,\n",
       " 832,\n",
       " 834,\n",
       " 836,\n",
       " 838,\n",
       " 840,\n",
       " 842,\n",
       " 844,\n",
       " 846,\n",
       " 848,\n",
       " 850,\n",
       " 852,\n",
       " 854,\n",
       " 856,\n",
       " 858,\n",
       " 860,\n",
       " 862,\n",
       " 864,\n",
       " 866,\n",
       " 868,\n",
       " 870,\n",
       " 872,\n",
       " 874,\n",
       " 876,\n",
       " 878,\n",
       " 880,\n",
       " 882,\n",
       " 884,\n",
       " 886,\n",
       " 888,\n",
       " 890,\n",
       " 892,\n",
       " 894,\n",
       " 896,\n",
       " 898,\n",
       " 900,\n",
       " 902,\n",
       " 904,\n",
       " 906,\n",
       " 908,\n",
       " 910,\n",
       " 912,\n",
       " 914,\n",
       " 916,\n",
       " 918,\n",
       " 920,\n",
       " 922,\n",
       " 924,\n",
       " 926,\n",
       " 928,\n",
       " 930,\n",
       " 932,\n",
       " 934,\n",
       " 936,\n",
       " 938,\n",
       " 940,\n",
       " 942,\n",
       " 944,\n",
       " 946,\n",
       " 948,\n",
       " 950,\n",
       " 952,\n",
       " 954,\n",
       " 956,\n",
       " 958,\n",
       " 960,\n",
       " 962,\n",
       " 964,\n",
       " 966,\n",
       " 968,\n",
       " 970,\n",
       " 972,\n",
       " 974,\n",
       " 976,\n",
       " 978,\n",
       " 980,\n",
       " 982,\n",
       " 984,\n",
       " 986,\n",
       " 988,\n",
       " 990,\n",
       " 992,\n",
       " 994,\n",
       " 996,\n",
       " 998,\n",
       " 1000,\n",
       " 1002,\n",
       " 1004,\n",
       " 1006,\n",
       " 1008,\n",
       " 1010,\n",
       " 1012,\n",
       " 1014,\n",
       " 1016,\n",
       " 1018,\n",
       " 1020,\n",
       " 1022,\n",
       " 1024,\n",
       " 1026,\n",
       " 1028,\n",
       " 1030,\n",
       " 1032,\n",
       " 1034,\n",
       " 1036,\n",
       " 1038,\n",
       " 1040,\n",
       " 1042,\n",
       " 1044,\n",
       " 1046,\n",
       " 1048,\n",
       " 1050,\n",
       " 1052,\n",
       " 1054,\n",
       " 1056,\n",
       " 1058,\n",
       " 1060,\n",
       " 1062,\n",
       " 1064,\n",
       " 1066,\n",
       " 1068,\n",
       " 1070,\n",
       " 1072,\n",
       " 1074,\n",
       " 1076,\n",
       " 1078,\n",
       " 1080,\n",
       " 1082,\n",
       " 1084,\n",
       " 1086,\n",
       " 1088,\n",
       " 1090,\n",
       " 1092,\n",
       " 1094,\n",
       " 1096,\n",
       " 1098,\n",
       " 1100,\n",
       " 1102,\n",
       " 1104,\n",
       " 1106,\n",
       " 1108,\n",
       " 1110,\n",
       " 1112,\n",
       " 1114,\n",
       " 1116,\n",
       " 1118,\n",
       " 1120,\n",
       " 1122,\n",
       " 1124,\n",
       " 1126,\n",
       " 1128,\n",
       " 1130,\n",
       " 1132,\n",
       " 1134,\n",
       " 1136,\n",
       " 1138,\n",
       " 1140,\n",
       " 1142,\n",
       " 1144,\n",
       " 1146,\n",
       " 1148,\n",
       " 1150,\n",
       " 1152,\n",
       " 1154,\n",
       " 1156,\n",
       " 1158,\n",
       " 1160,\n",
       " 1162,\n",
       " 1164,\n",
       " 1166,\n",
       " 1168,\n",
       " 1170,\n",
       " 1172,\n",
       " 1174,\n",
       " 1176,\n",
       " 1178,\n",
       " 1180,\n",
       " 1182,\n",
       " 1184,\n",
       " 1186,\n",
       " 1188,\n",
       " 1190,\n",
       " 1192,\n",
       " 1194,\n",
       " 1196,\n",
       " 1198,\n",
       " 1200,\n",
       " 1202,\n",
       " 1204,\n",
       " 1206,\n",
       " 1208,\n",
       " 1210,\n",
       " 1212,\n",
       " 1214,\n",
       " 1216,\n",
       " 1218,\n",
       " 1220,\n",
       " 1222,\n",
       " 1224,\n",
       " 1226,\n",
       " 1228,\n",
       " 1230,\n",
       " 1232,\n",
       " 1234,\n",
       " 1236,\n",
       " 1238,\n",
       " 1240,\n",
       " 1242,\n",
       " 1244,\n",
       " 1246,\n",
       " 1248,\n",
       " 1250,\n",
       " 1252,\n",
       " 1254,\n",
       " 1256,\n",
       " 1258,\n",
       " 1260,\n",
       " 1262,\n",
       " 1264,\n",
       " 1266,\n",
       " 1268,\n",
       " 1270,\n",
       " 1272,\n",
       " 1274,\n",
       " 1276,\n",
       " 1278,\n",
       " 1280,\n",
       " 1282,\n",
       " 1284,\n",
       " 1286,\n",
       " 1288,\n",
       " 1290,\n",
       " 1292,\n",
       " 1294,\n",
       " 1296,\n",
       " 1298,\n",
       " 1300,\n",
       " 1302,\n",
       " 1304,\n",
       " 1306,\n",
       " 1308,\n",
       " 1310,\n",
       " 1312,\n",
       " 1314,\n",
       " 1316,\n",
       " 1318,\n",
       " 1320,\n",
       " 1322,\n",
       " 1324,\n",
       " 1326,\n",
       " 1328,\n",
       " 1330,\n",
       " 1332,\n",
       " 1334,\n",
       " 1336,\n",
       " 1338,\n",
       " 1340,\n",
       " 1342,\n",
       " 1344,\n",
       " 1346,\n",
       " 1348,\n",
       " 1350,\n",
       " 1352,\n",
       " 1354,\n",
       " 1356,\n",
       " 1358,\n",
       " 1360,\n",
       " 1362,\n",
       " 1364,\n",
       " 1366,\n",
       " 1368,\n",
       " 1370,\n",
       " 1372,\n",
       " 1374,\n",
       " 1376,\n",
       " 1378,\n",
       " 1380,\n",
       " 1382,\n",
       " 1384,\n",
       " 1386,\n",
       " 1388,\n",
       " 1390,\n",
       " 1392,\n",
       " 1394,\n",
       " 1396,\n",
       " 1398,\n",
       " 1400,\n",
       " 1402,\n",
       " 1404,\n",
       " 1406,\n",
       " 1408,\n",
       " 1410,\n",
       " 1412,\n",
       " 1414,\n",
       " 1416,\n",
       " 1418,\n",
       " 1420,\n",
       " 1422,\n",
       " 1424,\n",
       " 1426,\n",
       " 1428,\n",
       " 1430,\n",
       " 1432,\n",
       " 1434,\n",
       " 1436,\n",
       " 1438,\n",
       " 1440,\n",
       " 1442,\n",
       " 1444,\n",
       " 1446,\n",
       " 1448,\n",
       " 1450,\n",
       " 1452,\n",
       " 1454,\n",
       " 1456,\n",
       " 1458,\n",
       " 1460,\n",
       " 1462,\n",
       " 1464,\n",
       " 1466,\n",
       " 1468,\n",
       " 1470,\n",
       " 1472,\n",
       " 1474,\n",
       " 1476,\n",
       " 1478,\n",
       " 1480,\n",
       " 1482,\n",
       " 1484,\n",
       " 1486,\n",
       " 1488,\n",
       " 1490,\n",
       " 1492,\n",
       " 1494,\n",
       " 1496,\n",
       " 1498,\n",
       " 1500,\n",
       " 1502,\n",
       " 1504,\n",
       " 1506,\n",
       " 1508,\n",
       " 1510,\n",
       " 1512,\n",
       " 1514,\n",
       " 1516,\n",
       " 1518,\n",
       " 1520,\n",
       " 1522,\n",
       " 1524,\n",
       " 1526,\n",
       " 1528,\n",
       " 1530,\n",
       " 1532,\n",
       " 1534,\n",
       " 1536,\n",
       " 1538,\n",
       " 1540,\n",
       " 1542,\n",
       " 1544,\n",
       " 1546,\n",
       " 1548,\n",
       " 1550,\n",
       " 1552,\n",
       " 1554,\n",
       " 1556,\n",
       " 1558,\n",
       " 1560,\n",
       " 1562,\n",
       " 1564,\n",
       " 1566,\n",
       " 1568,\n",
       " 1570,\n",
       " 1572,\n",
       " 1574,\n",
       " 1576,\n",
       " 1578,\n",
       " 1580,\n",
       " 1582,\n",
       " 1584,\n",
       " 1586,\n",
       " 1588,\n",
       " 1590,\n",
       " 1592,\n",
       " 1594,\n",
       " 1596,\n",
       " 1598,\n",
       " 1600,\n",
       " 1602,\n",
       " 1604,\n",
       " 1606,\n",
       " 1608,\n",
       " 1610,\n",
       " 1612,\n",
       " 1614,\n",
       " 1616,\n",
       " 1618,\n",
       " 1620,\n",
       " 1622,\n",
       " 1624,\n",
       " 1626,\n",
       " 1628,\n",
       " 1630,\n",
       " 1632,\n",
       " 1634,\n",
       " 1636,\n",
       " 1638,\n",
       " 1640,\n",
       " 1642,\n",
       " 1644,\n",
       " 1646,\n",
       " 1648,\n",
       " 1650,\n",
       " 1652,\n",
       " 1654,\n",
       " 1656,\n",
       " 1658,\n",
       " 1660,\n",
       " 1662,\n",
       " 1664,\n",
       " 1666,\n",
       " 1668,\n",
       " 1670,\n",
       " 1672,\n",
       " 1674,\n",
       " 1676,\n",
       " 1678,\n",
       " 1680,\n",
       " 1682,\n",
       " 1684,\n",
       " 1686,\n",
       " 1688,\n",
       " 1690,\n",
       " 1692,\n",
       " 1694,\n",
       " 1696,\n",
       " 1698,\n",
       " 1700,\n",
       " 1702,\n",
       " 1704,\n",
       " 1706,\n",
       " 1708,\n",
       " 1710,\n",
       " 1712,\n",
       " 1714,\n",
       " 1716,\n",
       " 1718,\n",
       " 1720,\n",
       " 1722,\n",
       " 1724,\n",
       " 1726,\n",
       " 1728,\n",
       " 1730,\n",
       " 1732,\n",
       " 1734,\n",
       " 1736,\n",
       " 1738,\n",
       " 1740,\n",
       " 1742,\n",
       " 1744,\n",
       " 1746,\n",
       " 1748,\n",
       " 1750,\n",
       " 1752,\n",
       " 1754,\n",
       " 1756,\n",
       " 1758,\n",
       " 1760,\n",
       " 1762,\n",
       " 1764,\n",
       " 1766,\n",
       " 1768,\n",
       " 1770,\n",
       " 1772,\n",
       " 1774,\n",
       " 1776,\n",
       " 1778,\n",
       " 1780,\n",
       " 1782,\n",
       " 1784,\n",
       " 1786,\n",
       " 1788,\n",
       " 1790,\n",
       " 1792,\n",
       " 1794,\n",
       " 1796,\n",
       " 1798,\n",
       " 1800,\n",
       " 1802,\n",
       " 1804,\n",
       " 1806,\n",
       " 1808,\n",
       " 1810,\n",
       " 1812,\n",
       " 1814,\n",
       " 1816,\n",
       " 1818,\n",
       " 1820,\n",
       " 1822,\n",
       " 1824,\n",
       " 1826,\n",
       " 1828,\n",
       " 1830,\n",
       " 1832,\n",
       " 1834,\n",
       " 1836,\n",
       " 1838,\n",
       " 1840,\n",
       " 1842,\n",
       " 1844,\n",
       " 1846,\n",
       " 1848,\n",
       " 1850,\n",
       " 1852,\n",
       " 1854,\n",
       " 1856,\n",
       " 1858,\n",
       " 1860,\n",
       " 1862,\n",
       " 1864,\n",
       " 1866,\n",
       " 1868,\n",
       " 1870,\n",
       " 1872,\n",
       " 1874,\n",
       " 1876,\n",
       " 1878,\n",
       " 1880,\n",
       " 1882,\n",
       " 1884,\n",
       " 1886,\n",
       " 1888,\n",
       " 1890,\n",
       " 1892,\n",
       " 1894,\n",
       " 1896,\n",
       " 1898,\n",
       " 1900,\n",
       " 1902,\n",
       " 1904,\n",
       " 1906,\n",
       " 1908,\n",
       " 1910,\n",
       " 1912,\n",
       " 1914,\n",
       " 1916,\n",
       " 1918,\n",
       " 1920,\n",
       " 1922,\n",
       " 1924,\n",
       " 1926,\n",
       " 1928,\n",
       " 1930,\n",
       " 1932,\n",
       " 1934,\n",
       " 1936,\n",
       " 1938,\n",
       " 1940,\n",
       " 1942,\n",
       " 1944,\n",
       " 1946,\n",
       " 1948,\n",
       " 1950,\n",
       " 1952,\n",
       " 1954,\n",
       " 1956,\n",
       " 1958,\n",
       " 1960,\n",
       " 1962,\n",
       " 1964,\n",
       " 1966,\n",
       " 1968,\n",
       " 1970,\n",
       " 1972,\n",
       " 1974,\n",
       " 1976,\n",
       " 1978,\n",
       " 1980,\n",
       " 1982,\n",
       " 1984,\n",
       " 1986,\n",
       " 1988,\n",
       " 1990,\n",
       " 1992,\n",
       " 1994,\n",
       " 1996,\n",
       " 1998,\n",
       " ...]"
      ]
     },
     "execution_count": 174,
     "metadata": {},
     "output_type": "execute_result"
    }
   ],
   "source": [
    "list(itertools.islice(long_list, 0, None, 2))"
   ]
  },
  {
   "cell_type": "markdown",
   "id": "ec955c20",
   "metadata": {},
   "source": [
    "## Permutations"
   ]
  },
  {
   "cell_type": "code",
   "execution_count": 175,
   "id": "af915568",
   "metadata": {},
   "outputs": [
    {
     "data": {
      "text/plain": [
       "[(1, 2), (1, 3), (2, 1), (2, 3), (3, 1), (3, 2)]"
      ]
     },
     "execution_count": 175,
     "metadata": {},
     "output_type": "execute_result"
    }
   ],
   "source": [
    "#Order is important in permutations. Remember in permutations order matters\n",
    "list(itertools.permutations([1,2,3], r=2))"
   ]
  },
  {
   "cell_type": "code",
   "execution_count": 176,
   "id": "fc06c1dc",
   "metadata": {},
   "outputs": [
    {
     "data": {
      "text/plain": [
       "[(1, 2, 3), (1, 3, 2), (2, 1, 3), (2, 3, 1), (3, 1, 2), (3, 2, 1)]"
      ]
     },
     "execution_count": 176,
     "metadata": {},
     "output_type": "execute_result"
    }
   ],
   "source": [
    "list(itertools.permutations([1,2,3], r=3))"
   ]
  },
  {
   "cell_type": "markdown",
   "id": "c48c9ea0",
   "metadata": {},
   "source": [
    "## product"
   ]
  },
  {
   "cell_type": "code",
   "execution_count": 177,
   "id": "def73910",
   "metadata": {},
   "outputs": [
    {
     "data": {
      "text/plain": [
       "[(1, 4), (1, 5), (2, 4), (2, 5), (3, 4), (3, 5)]"
      ]
     },
     "execution_count": 177,
     "metadata": {},
     "output_type": "execute_result"
    }
   ],
   "source": [
    "list(itertools.product([1,2,3], [4,5]))"
   ]
  },
  {
   "cell_type": "code",
   "execution_count": 178,
   "id": "3d04a4b4",
   "metadata": {},
   "outputs": [
    {
     "data": {
      "text/plain": [
       "[(1, 1), (1, 2), (1, 3), (2, 1), (2, 2), (2, 3), (3, 1), (3, 2), (3, 3)]"
      ]
     },
     "execution_count": 178,
     "metadata": {},
     "output_type": "execute_result"
    }
   ],
   "source": [
    "#Can also repeat arg which is useful\n",
    "list(itertools.product([1,2,3], repeat=2))"
   ]
  },
  {
   "cell_type": "markdown",
   "id": "b83e0d09",
   "metadata": {},
   "source": [
    "## Zip Longest"
   ]
  },
  {
   "cell_type": "code",
   "execution_count": 179,
   "id": "4cf9069a",
   "metadata": {},
   "outputs": [
    {
     "data": {
      "text/plain": [
       "[(1, 'a'), (2, 'b')]"
      ]
     },
     "execution_count": 179,
     "metadata": {},
     "output_type": "execute_result"
    }
   ],
   "source": [
    "#Note we lost Brighton and Leeds\n",
    "list(zip([1,2], ['a', 'b', 'c']))"
   ]
  },
  {
   "cell_type": "code",
   "execution_count": 180,
   "id": "07df956c",
   "metadata": {},
   "outputs": [
    {
     "data": {
      "text/plain": [
       "[(1, 'a'), (2, 'b'), (None, 'c')]"
      ]
     },
     "execution_count": 180,
     "metadata": {},
     "output_type": "execute_result"
    }
   ],
   "source": [
    "list(itertools.zip_longest([1,2], ['a', 'b', 'c']))"
   ]
  },
  {
   "cell_type": "code",
   "execution_count": 181,
   "id": "6a6c9c22",
   "metadata": {},
   "outputs": [
    {
     "data": {
      "text/plain": [
       "Counter({'3': 102,\n",
       "         '6': 102,\n",
       "         '9': 102,\n",
       "         '1': 99,\n",
       "         '2': 99,\n",
       "         '5': 99,\n",
       "         '8': 99,\n",
       "         '4': 99,\n",
       "         '7': 99,\n",
       "         '0': 63})"
      ]
     },
     "execution_count": 181,
     "metadata": {},
     "output_type": "execute_result"
    }
   ],
   "source": [
    "# Challenge 4\n",
    "\n",
    "#  how many times does the each number appear in the multiples of 3 less than 1000?\n",
    "\n",
    "three_times_table = (str(number) for number in itertools.islice(range(1000), 3, None, 3))\n",
    "Counter(itertools.chain.from_iterable(three_times_table))"
   ]
  },
  {
   "cell_type": "markdown",
   "id": "0f3789e6",
   "metadata": {},
   "source": [
    "## functools"
   ]
  },
  {
   "cell_type": "markdown",
   "id": "e131797a",
   "metadata": {},
   "source": [
    "The functools module is for higher-order functions: functions that act on or return other functions. In general, any callable object can be treated as a function for the purposes of this module.\n"
   ]
  },
  {
   "cell_type": "code",
   "execution_count": 182,
   "id": "9b5842f1",
   "metadata": {},
   "outputs": [],
   "source": [
    "import functools"
   ]
  },
  {
   "cell_type": "markdown",
   "id": "27242923",
   "metadata": {},
   "source": [
    "### lru_cache, cache"
   ]
  },
  {
   "cell_type": "markdown",
   "id": "dd7876ad",
   "metadata": {},
   "source": [
    "Last recent cache - is a decorator to wrap a function with a memoizing callable that saves up to the maxsize most recent calls."
   ]
  },
  {
   "cell_type": "code",
   "execution_count": 183,
   "id": "a89585e0",
   "metadata": {},
   "outputs": [],
   "source": [
    "def factorial(n):\n",
    "    return n * factorial(n-1) if n else 1"
   ]
  },
  {
   "cell_type": "markdown",
   "id": "a6a56c46",
   "metadata": {},
   "source": [
    "The decorator will create a new function with the same name and give it a cache"
   ]
  },
  {
   "cell_type": "code",
   "execution_count": 184,
   "id": "b7325767",
   "metadata": {},
   "outputs": [],
   "source": [
    "@functools.lru_cache(maxsize=None)\n",
    "def fast_factorial(n):\n",
    "    return n * factorial(n-1) if n else 1\n"
   ]
  },
  {
   "cell_type": "code",
   "execution_count": 185,
   "id": "c20957e9",
   "metadata": {},
   "outputs": [
    {
     "name": "stdout",
     "output_type": "stream",
     "text": [
      "36.8 µs ± 1.25 µs per loop (mean ± std. dev. of 7 runs, 10,000 loops each)\n"
     ]
    }
   ],
   "source": [
    "%timeit factorial(200)"
   ]
  },
  {
   "cell_type": "code",
   "execution_count": 186,
   "id": "fdc0e62e",
   "metadata": {},
   "outputs": [
    {
     "name": "stdout",
     "output_type": "stream",
     "text": [
      "77.1 ns ± 1.12 ns per loop (mean ± std. dev. of 7 runs, 10,000,000 loops each)\n"
     ]
    }
   ],
   "source": [
    "%timeit fast_factorial(200)\n",
    "#much faster nanoseconds"
   ]
  },
  {
   "cell_type": "markdown",
   "id": "0801f61b",
   "metadata": {},
   "source": [
    "### total ordering"
   ]
  },
  {
   "cell_type": "code",
   "execution_count": 195,
   "id": "403e8040",
   "metadata": {},
   "outputs": [],
   "source": [
    "class Student:\n",
    "\n",
    "    def __init__(self, name:str, age:int,\n",
    "                 test_scores:List[int], on_vacation: bool=False):\n",
    "        self.name = name\n",
    "        self.age = age\n",
    "        self.test_scores = test_scores\n",
    "        self.on_vacation = on_vacation\n",
    "\n",
    "    def __repr__(self):\n",
    "        return f'Student(name={self.name})'\n",
    "\n",
    "    @property\n",
    "    def mean_test_score(self):\n",
    "        return sum(x for x in self.test_scores) / len(self.test_scores)"
   ]
  },
  {
   "cell_type": "code",
   "execution_count": 196,
   "id": "ae6ff305",
   "metadata": {},
   "outputs": [
    {
     "data": {
      "text/plain": [
       "(Student(name=John Smith), Student(name=Isaac Newton))"
      ]
     },
     "execution_count": 196,
     "metadata": {},
     "output_type": "execute_result"
    }
   ],
   "source": [
    "john = Student(**student_data[0])\n",
    "newton = Student(**student_data[2])\n",
    "\n",
    "john, newton"
   ]
  },
  {
   "cell_type": "code",
   "execution_count": 198,
   "id": "a95c832c",
   "metadata": {},
   "outputs": [],
   "source": [
    "# this code will error if uncommented\n",
    "\n",
    "#john < newton"
   ]
  },
  {
   "cell_type": "code",
   "execution_count": 199,
   "id": "5bd9ce87",
   "metadata": {},
   "outputs": [],
   "source": [
    "class Student:\n",
    "\n",
    "    def __init__(self, name:str, age:int,test_scores:List[int], on_vacation: bool=False):\n",
    "        self.name = name\n",
    "        self.age = age\n",
    "        self.test_scores = test_scores\n",
    "        self.on_vacation = on_vacation\n",
    "    \n",
    "    def __repr__(self):\n",
    "        return f'Student(name={self.name})'\n",
    "\n",
    "    @property\n",
    "    def mean_test_score(self):\n",
    "        return sum(x for x in self.test_scores) / len(self.test_scores)\n",
    "    \n",
    "    # add all these special methods.\n",
    "        \n",
    "    def __lt__(self, other: Student):\n",
    "        return self.mean_test_score < other.mean_test_score\n",
    "\n",
    "    def __le__(self, other: Student):\n",
    "        return self.mean_test_score <= other.mean_test_score\n",
    "    \n",
    "    def __gt__(self, other: Student):\n",
    "        return self.mean_test_score > other.mean_test_score\n",
    "\n",
    "    def __ge__(self, other: Student):\n",
    "        return self.mean_test_score >= other.mean_test_score\n",
    "\n",
    "    def __eq__(self, other: Student):\n",
    "        return self.mean_test_score == other.mean_test_score"
   ]
  },
  {
   "cell_type": "code",
   "execution_count": 208,
   "id": "79fcdda7",
   "metadata": {},
   "outputs": [
    {
     "data": {
      "text/plain": [
       "(Student(name=John Smith), Student(name=Isaac Newton))"
      ]
     },
     "execution_count": 208,
     "metadata": {},
     "output_type": "execute_result"
    }
   ],
   "source": [
    "john = Student(**student_data[0])\n",
    "newton = Student(**student_data[2])\n",
    "john, newton"
   ]
  },
  {
   "cell_type": "code",
   "execution_count": 201,
   "id": "14d5bf47",
   "metadata": {},
   "outputs": [
    {
     "data": {
      "text/plain": [
       "False"
      ]
     },
     "execution_count": 201,
     "metadata": {},
     "output_type": "execute_result"
    }
   ],
   "source": [
    "john > newton"
   ]
  },
  {
   "cell_type": "code",
   "execution_count": 202,
   "id": "963e969f",
   "metadata": {},
   "outputs": [
    {
     "data": {
      "text/plain": [
       "False"
      ]
     },
     "execution_count": 202,
     "metadata": {},
     "output_type": "execute_result"
    }
   ],
   "source": [
    "#Same as\n",
    "john.__gt__(newton)"
   ]
  },
  {
   "cell_type": "markdown",
   "id": "bb49b654",
   "metadata": {},
   "source": [
    "## But what total_ordering class decorator is...\n",
    "Just need to specify two properties"
   ]
  },
  {
   "cell_type": "code",
   "execution_count": 203,
   "id": "70f523f7",
   "metadata": {},
   "outputs": [],
   "source": [
    "@functools.total_ordering\n",
    "class Student:\n",
    "    \n",
    "    def __init__(self, name:str, age:int,test_scores:List[int], on_vacation: bool=False):\n",
    "        self.name = name\n",
    "        self.age = age\n",
    "        self.test_scores = test_scores\n",
    "        self.on_vacation = on_vacation\n",
    "    \n",
    "    def __repr__(self):\n",
    "        return f'Student(name={self.name})'\n",
    "\n",
    "    @property\n",
    "    def mean_test_score(self):\n",
    "        return sum(x for x in self.test_scores) / len(self.test_scores)\n",
    "    \n",
    "    # add all these special methods.\n",
    "        \n",
    "    def __lt__(self, other: Student):\n",
    "        return self.mean_test_score < other.mean_test_score\n",
    "\n",
    "    def __eq__(self, other: Student):\n",
    "        return self.mean_test_score == other.mean_test_score"
   ]
  },
  {
   "cell_type": "code",
   "execution_count": 204,
   "id": "959404d7",
   "metadata": {},
   "outputs": [],
   "source": [
    "# Because Greater than is the same as not less than and not equal."
   ]
  },
  {
   "cell_type": "code",
   "execution_count": 209,
   "id": "da1121c8",
   "metadata": {},
   "outputs": [],
   "source": [
    "#Gives you information\n",
    "john.__gt__??"
   ]
  },
  {
   "cell_type": "markdown",
   "id": "a204a38e",
   "metadata": {},
   "source": [
    "## partial"
   ]
  },
  {
   "cell_type": "code",
   "execution_count": 210,
   "id": "100e9164",
   "metadata": {},
   "outputs": [],
   "source": [
    "def is_pass(student: Student, pass_mark = 60):\n",
    "    passed = student.mean_test_score > pass_mark\n",
    "    print((f'{student.name} has test score '\n",
    "          f\"{'above' if passed else 'below'} {pass_mark}\"))\n",
    "    return passed"
   ]
  },
  {
   "cell_type": "code",
   "execution_count": 211,
   "id": "e87ad184",
   "metadata": {},
   "outputs": [
    {
     "name": "stdout",
     "output_type": "stream",
     "text": [
      "John Smith has test score below 60\n"
     ]
    },
    {
     "data": {
      "text/plain": [
       "False"
      ]
     },
     "execution_count": 211,
     "metadata": {},
     "output_type": "execute_result"
    }
   ],
   "source": [
    "is_pass(john)"
   ]
  },
  {
   "cell_type": "code",
   "execution_count": 212,
   "id": "14487657",
   "metadata": {},
   "outputs": [
    {
     "name": "stdout",
     "output_type": "stream",
     "text": [
      "Isaac Newton has test score above 60\n"
     ]
    },
    {
     "data": {
      "text/plain": [
       "True"
      ]
     },
     "execution_count": 212,
     "metadata": {},
     "output_type": "execute_result"
    }
   ],
   "source": [
    "is_pass(newton)"
   ]
  },
  {
   "cell_type": "code",
   "execution_count": 215,
   "id": "50643226",
   "metadata": {},
   "outputs": [],
   "source": [
    "def is_top_set(student: Student):\n",
    "    return is_pass(student, 30)"
   ]
  },
  {
   "cell_type": "code",
   "execution_count": 217,
   "id": "647af058",
   "metadata": {},
   "outputs": [
    {
     "name": "stdout",
     "output_type": "stream",
     "text": [
      "Isaac Newton has test score above 30\n"
     ]
    },
    {
     "data": {
      "text/plain": [
       "True"
      ]
     },
     "execution_count": 217,
     "metadata": {},
     "output_type": "execute_result"
    }
   ],
   "source": [
    "is_top_set(newton)"
   ]
  },
  {
   "cell_type": "code",
   "execution_count": 218,
   "id": "63c3cd22",
   "metadata": {},
   "outputs": [],
   "source": [
    "is_top_set = functools.partial(is_pass, pass_mark=80)"
   ]
  },
  {
   "cell_type": "code",
   "execution_count": 219,
   "id": "5931bfd1",
   "metadata": {},
   "outputs": [
    {
     "data": {
      "text/plain": [
       "functools.partial(<function is_pass at 0x000000002A5028B0>, pass_mark=80)"
      ]
     },
     "execution_count": 219,
     "metadata": {},
     "output_type": "execute_result"
    }
   ],
   "source": [
    "is_top_set"
   ]
  },
  {
   "cell_type": "code",
   "execution_count": 220,
   "id": "09da1549",
   "metadata": {},
   "outputs": [],
   "source": [
    "# another way to create is_top_set\n",
    "#don't need the explicit definition of the function"
   ]
  },
  {
   "cell_type": "code",
   "execution_count": 227,
   "id": "c8f1163f",
   "metadata": {},
   "outputs": [],
   "source": [
    "is_top_set = functools.partial(is_pass, pass_mark=80)"
   ]
  },
  {
   "cell_type": "code",
   "execution_count": 230,
   "id": "435e067c",
   "metadata": {},
   "outputs": [
    {
     "name": "stdout",
     "output_type": "stream",
     "text": [
      "Isaac Newton has test score above 80\n"
     ]
    },
    {
     "data": {
      "text/plain": [
       "True"
      ]
     },
     "execution_count": 230,
     "metadata": {},
     "output_type": "execute_result"
    }
   ],
   "source": [
    "is_top_set(newton)"
   ]
  },
  {
   "cell_type": "code",
   "execution_count": 231,
   "id": "5a09b7be",
   "metadata": {},
   "outputs": [
    {
     "data": {
      "text/plain": [
       "(1, 2)"
      ]
     },
     "execution_count": 231,
     "metadata": {},
     "output_type": "execute_result"
    }
   ],
   "source": [
    "from statistics import median\n",
    "min([(1,2), (5,1), (2,3)])"
   ]
  },
  {
   "cell_type": "code",
   "execution_count": 232,
   "id": "741f8990",
   "metadata": {},
   "outputs": [
    {
     "data": {
      "text/plain": [
       "(5, 1)"
      ]
     },
     "execution_count": 232,
     "metadata": {},
     "output_type": "execute_result"
    }
   ],
   "source": [
    "#Compares the 1st index to each of the other tuples\n",
    "min([(1,2), (5,1), (2,3)], key=lambda item: item[1])"
   ]
  },
  {
   "cell_type": "code",
   "execution_count": 234,
   "id": "bde0d3c5",
   "metadata": {},
   "outputs": [],
   "source": [
    "min_student = functools.partial(min, \n",
    "                              key=lambda student : median(student.test_scores))"
   ]
  },
  {
   "cell_type": "code",
   "execution_count": 235,
   "id": "dc510eee",
   "metadata": {},
   "outputs": [
    {
     "data": {
      "text/plain": [
       "Student(name='Jane Doe', age=10, on_vacation=False, test_scores=[4, 73, 75, 4, 50, 83, 8, 23, 42, 23])"
      ]
     },
     "execution_count": 235,
     "metadata": {},
     "output_type": "execute_result"
    }
   ],
   "source": [
    "min_student(students)"
   ]
  },
  {
   "cell_type": "code",
   "execution_count": 237,
   "id": "0ccbda57",
   "metadata": {},
   "outputs": [
    {
     "name": "stdout",
     "output_type": "stream",
     "text": [
      "('John Smith', 'Jane Doe')\n",
      "('John Smith', 'Isaac Newton')\n",
      "('Jane Doe', 'Isaac Newton')\n"
     ]
    }
   ],
   "source": [
    "# Challenge 5\n",
    "\n",
    "# create a function called student_pairs to find all comninations of 2 students\n",
    "\n",
    "student_pairs = functools.partial(itertools.combinations, r=2)\n",
    "  \n",
    "for student_a, student_b in student_pairs(students):\n",
    "    print((student_a.name, student_b.name))"
   ]
  },
  {
   "cell_type": "markdown",
   "id": "bf57bcc8",
   "metadata": {},
   "source": [
    "### Playing with f strings"
   ]
  },
  {
   "cell_type": "markdown",
   "id": "f8dadef8",
   "metadata": {},
   "source": [
    "Debugging purposes"
   ]
  },
  {
   "cell_type": "code",
   "execution_count": 240,
   "id": "66f8570f",
   "metadata": {},
   "outputs": [
    {
     "name": "stdout",
     "output_type": "stream",
     "text": [
      "the value is other\n"
     ]
    }
   ],
   "source": [
    "str_value = \"other\"\n",
    "num_value = 123\n",
    "\n",
    "print(f'the value is {str_value}')"
   ]
  },
  {
   "cell_type": "code",
   "execution_count": 243,
   "id": "e8b79867",
   "metadata": {},
   "outputs": [
    {
     "name": "stdout",
     "output_type": "stream",
     "text": [
      "the value is str_value='other'\n"
     ]
    }
   ],
   "source": [
    "#Just put an = sign to get what's there to the left\n",
    "print(f'the value is {str_value=}')"
   ]
  },
  {
   "cell_type": "code",
   "execution_count": 244,
   "id": "80f4f7b8",
   "metadata": {},
   "outputs": [
    {
     "name": "stdout",
     "output_type": "stream",
     "text": [
      "num_value % 2 = 1\n"
     ]
    }
   ],
   "source": [
    "print(f'{num_value % 2 = }')"
   ]
  },
  {
   "cell_type": "code",
   "execution_count": 255,
   "id": "93d162db",
   "metadata": {},
   "outputs": [],
   "source": [
    "def conversion():\n",
    "    str_value = \"other\"\n",
    "    print(f'{str_value!r}')   #equivalent to repr(str_value)"
   ]
  },
  {
   "cell_type": "code",
   "execution_count": 256,
   "id": "0af04e72",
   "metadata": {},
   "outputs": [
    {
     "name": "stdout",
     "output_type": "stream",
     "text": [
      "'other'\n"
     ]
    }
   ],
   "source": [
    "conversion()"
   ]
  },
  {
   "cell_type": "code",
   "execution_count": 251,
   "id": "6468a800",
   "metadata": {},
   "outputs": [
    {
     "name": "stdout",
     "output_type": "stream",
     "text": [
      "'other'\n"
     ]
    }
   ],
   "source": []
  },
  {
   "cell_type": "code",
   "execution_count": null,
   "id": "daddfa4c",
   "metadata": {},
   "outputs": [],
   "source": []
  }
 ],
 "metadata": {
  "kernelspec": {
   "display_name": "Python 3 (ipykernel)",
   "language": "python",
   "name": "python3"
  },
  "language_info": {
   "codemirror_mode": {
    "name": "ipython",
    "version": 3
   },
   "file_extension": ".py",
   "mimetype": "text/x-python",
   "name": "python",
   "nbconvert_exporter": "python",
   "pygments_lexer": "ipython3",
   "version": "3.8.6"
  }
 },
 "nbformat": 4,
 "nbformat_minor": 5
}
